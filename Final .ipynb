{
 "cells": [
  {
   "cell_type": "code",
   "execution_count": null,
   "metadata": {},
   "outputs": [],
   "source": [
    "#dependencies\n",
    "import pandas as pd\n",
    "import random\n",
    "import numpy as np\n",
    "import matplotlib.pyplot as plt\n",
    "from scipy.stats import linregress"
   ]
  },
  {
   "cell_type": "markdown",
   "metadata": {},
   "source": [
    "# World Happiness Report Analysis"
   ]
  },
  {
   "cell_type": "code",
   "execution_count": null,
   "metadata": {
    "scrolled": false
   },
   "outputs": [],
   "source": [
    "#create a dataframe from a file using pandas\n",
    "file = 'Resources/WorldHappinessReport.csv'\n",
    "# The correct encoding must be used to read the CSV in pandas\n",
    "RawData = pd.read_csv(file)\n",
    "WHR_DF=RawData.loc[RawData[\"year\"]==2017,:]\n",
    "WHR_DF.columns"
   ]
  },
  {
   "cell_type": "code",
   "execution_count": null,
   "metadata": {},
   "outputs": [],
   "source": [
    "#Histogram of happines index\n",
    "\n",
    "mean=WHR_DF['Life Ladder'].mean()\n",
    "mean=str(round(mean, 2))\n",
    "\n",
    "plt.hist(WHR_DF['Life Ladder'], 20, density=True, alpha=0.7, label=\"Happiness Index\")\n",
    "plt.axvline(WHR_DF['Life Ladder'].mean(), color='r', linestyle='dashed', linewidth=1)\n",
    "\n",
    "plt.title(\"Happiness index is normally distributed with a mean of \" + str(mean) )\n",
    "\n",
    "\n",
    "#save the image in the folder\n",
    "plt.savefig(\"Graphs/HappinessHistogram.png\")\n",
    "plt.show()\n",
    "\n",
    "#GDP\n",
    "fig,    ax = plt.subplots() \n",
    "ax.errorbar(WHR_DF['Life Ladder'], WHR_DF[\"Log GDP per capita\"],  fmt=\"o\",color= 'r'\n",
    "               ,linewidth=0, markeredgecolor='black',markeredgewidth=1,markersize=10,label='label')\n",
    "plt.ylabel('Log GDP per capita')\n",
    "plt.xlabel('Happines Index')\n",
    "plt.title(\"Happiness index vs GDP per capita\")\n",
    "\n",
    "\n",
    "#save the image in the folder\n",
    "plt.savefig(\"Graphs/HappinessVsGDP.png\")\n",
    "plt.show()\n",
    "\n",
    "\n",
    "#social suport\n",
    "fig,    ax = plt.subplots() \n",
    "ax.errorbar(WHR_DF['Life Ladder'], WHR_DF[\"Social support\"],  fmt=\"o\",color= 'g'\n",
    "               ,linewidth=0, markeredgecolor='black',markeredgewidth=1,markersize=10,label='label')\n",
    "plt.ylabel('Social support')\n",
    "plt.xlabel('Happines Index')\n",
    "plt.title(\"Happiness index vs Social Support\")\n",
    "#save the image in the folder\n",
    "plt.savefig(\"Graphs/HappinessVsSocilaSupport.png\")\n",
    "plt.show()\n",
    "\n",
    "\n",
    "#Freedom to make life choices\n",
    "fig,    ax = plt.subplots() \n",
    "ax.errorbar(WHR_DF['Life Ladder'], WHR_DF[\"Freedom to make life choices\"],  fmt=\"o\",color= 'b'\n",
    "               ,linewidth=0, markeredgecolor='black',markeredgewidth=1,markersize=10,label='label')\n",
    "plt.ylabel('Freedom to make life choices')\n",
    "plt.xlabel('Happines Index')\n",
    "plt.title(\"Happiness index vs Freedom to make life choices\")\n",
    "#save the image in the folder\n",
    "plt.savefig(\"Graphs/HappinessVsLifeChoices.png\")\n",
    "plt.show()\n",
    "\n",
    "\n",
    "#Freedom to make life choices\n",
    "fig,    ax = plt.subplots() \n",
    "ax.errorbar(WHR_DF['Life Ladder'], WHR_DF[\"Perceptions of corruption\"],  fmt=\"o\",color= 'y'\n",
    "               ,linewidth=0, markeredgecolor='black',markeredgewidth=1,markersize=10,label='label')\n",
    "plt.ylabel('Perceptions of corruption')\n",
    "plt.xlabel('Happines Index')\n",
    "plt.title(\"Happiness index vs Perceptions of corruption\")\n",
    "#save the image in the folder\n",
    "plt.savefig(\"Graphs/HappinessVsCorruption.png\")\n",
    "plt.show()\n",
    "\n",
    "\n",
    "#GINI index (World Bank estimate)\n",
    "fig,    ax = plt.subplots() \n",
    "ax.errorbar(WHR_DF['Life Ladder'], WHR_DF[\"GINI index (World Bank estimate), average 2000-15\"],  fmt=\"o\",color= 'orange'\n",
    "               ,linewidth=0, markeredgecolor='black',markeredgewidth=1,markersize=10,label='label')\n",
    "plt.ylabel('GINI index (World Bank estimate)')\n",
    "plt.xlabel('Happines Index')\n",
    "plt.title(\"Happiness index vs GINI index (World Bank estimate)\")\n",
    "#save the image in the folder\n",
    "plt.savefig(\"Graphs/HappinessVsCountryPoverty.png\")\n",
    "plt.show()\n",
    "\n",
    "\n",
    "#GDP\n",
    "fig,    ax = plt.subplots() \n",
    "ax.errorbar(WHR_DF['Life Ladder'], WHR_DF[\"gini of household income reported in Gallup, by wp5-year\"],  fmt=\"o\",color= 'r'\n",
    "               ,linewidth=0, markeredgecolor='black',markeredgewidth=1,markersize=10,label='label')\n",
    "plt.ylabel('Gini')\n",
    "plt.xlabel('Happines Index')\n",
    "plt.title(\"Happiness index vs Gini of household \")\n",
    "#save the image in the folder\n",
    "plt.savefig(\"Graphs/HappinessVsHouseholdPoverty.png\")\n",
    "plt.show()"
   ]
  },
  {
   "cell_type": "markdown",
   "metadata": {},
   "source": [
    "Rafael"
   ]
  },
  {
   "cell_type": "code",
   "execution_count": null,
   "metadata": {},
   "outputs": [],
   "source": []
  },
  {
   "cell_type": "code",
   "execution_count": null,
   "metadata": {},
   "outputs": [],
   "source": []
  },
  {
   "cell_type": "code",
   "execution_count": null,
   "metadata": {},
   "outputs": [],
   "source": []
  },
  {
   "cell_type": "markdown",
   "metadata": {},
   "source": [
    "Arghavan"
   ]
  },
  {
   "cell_type": "markdown",
   "metadata": {},
   "source": [
    "## Comparing Countries Happiness vs the Number of Olympic Athletes they had that year\n",
    "    Is there a correlation between a country's happiness and the number of athletes they send to the Olympics?"
   ]
  },
  {
   "cell_type": "code",
   "execution_count": null,
   "metadata": {},
   "outputs": [],
   "source": [
    "#call the csv file made before\n",
    "\n",
    "olympics_df = pd.read_csv(\"Outputs/Athlete_Happiness.csv\")\n",
    "\n",
    "#delete column\n",
    "olympics_df = olympics_df.drop(\"Unnamed: 0\", 1)"
   ]
  },
  {
   "cell_type": "code",
   "execution_count": null,
   "metadata": {},
   "outputs": [],
   "source": [
    "#create scatterplot Happiness vs Number of Olympic Athletes\n",
    "\n",
    "plt.scatter(olympics_df[\"Life Ladder\"], olympics_df[\"Number of Athletes\"], \n",
    "            marker=\"o\", color=\"forestgreen\", s= 50, edgecolors=\"black\", alpha=0.75)\n",
    "plt.xlabel(\"Happiness Index\")\n",
    "plt.ylabel(\"Number of Olympic Athletes\")\n",
    "plt.title(\"Happiness vs Number of Olympic Athletes\")\n",
    "plt.grid()\n",
    "\n",
    "#regression line\n",
    "slope, intercept, r, p, error = linregress(olympics_df['Life Ladder'], olympics_df[\"Number of Athletes\"])\n",
    "\n",
    "fit = slope * olympics_df['Life Ladder'] + intercept\n",
    "fig, ax = plt.subplots()\n",
    "\n",
    "plt.scatter(olympics_df[\"Life Ladder\"], olympics_df[\"Number of Athletes\"], marker=\"o\", color=\"forestgreen\", \n",
    "            s= 50, edgecolors=\"black\", alpha=0.75,label= \"Data\")\n",
    "plt.xlabel(\"Happiness Index\")\n",
    "plt.ylabel(\"Number of Olympic Athletes\")\n",
    "plt.title(\"Happiness vs Number of Olympic Athletes with Regression Line\")\n",
    "plt.grid()\n",
    "ax.plot(olympics_df['Life Ladder'] , fit, 'r--', label=\"Regression Line\")\n",
    "plt.legend()\n",
    "\n",
    "#Saving and showing graph\n",
    "plt.savefig(\"Graphs/Happiness vs Number of Olympic Athletes.png\")\n",
    "plt.show()\n",
    "print (\"r-squared:\", (r**2),\",P-Value:\", (p))"
   ]
  },
  {
   "cell_type": "code",
   "execution_count": null,
   "metadata": {},
   "outputs": [],
   "source": [
    "#create scatterplot Freedom to make life choices vs Number of Olympic Athletes\n",
    "\n",
    "plt.scatter(olympics_df[\"Freedom to make life choices\"], olympics_df[\"Number of Athletes\"], \n",
    "            marker=\"o\", color=\"dodgerblue\", s= 50, edgecolors=\"black\", alpha=0.75)\n",
    "plt.xlabel(\"Freedom to make life choices\")\n",
    "plt.ylabel(\"Number of Olympic Athletes\")\n",
    "plt.title(\"Freedom to make life choices vs Number of Olympic Athletes\")\n",
    "plt.grid()\n",
    "plt.savefig(\"Graphs/Freedom to make life choices Olympics\")\n",
    "plt.show()"
   ]
  },
  {
   "cell_type": "code",
   "execution_count": null,
   "metadata": {},
   "outputs": [],
   "source": [
    "plt.scatter(olympics_df[\"Social support\"], olympics_df[\"Number of Athletes\"], \n",
    "            marker=\"o\", color=\"deeppink\", s= 50, edgecolors=\"black\", alpha=0.75)\n",
    "plt.xlabel(\"Social support\")\n",
    "plt.ylabel(\"Number of Olympic Athletes\")\n",
    "plt.title(\"Social support vs Number of Olympic Athletes\")\n",
    "plt.grid()\n",
    "plt.savefig(\"Graphs/Social support Olympics\")\n",
    "plt.show()"
   ]
  },
  {
   "cell_type": "markdown",
   "metadata": {},
   "source": [
    "Shayan"
   ]
  },
  {
   "cell_type": "markdown",
   "metadata": {},
   "source": [
    "# Comparing countries Happiness Index vs with the number of tourists.\n",
    "\n",
    "Is there any correlation between the number of tourists each country has and their happiness level? are the countries that have more tourists happier?"
   ]
  },
  {
   "cell_type": "code",

   "execution_count": 8,

   "metadata": {},
   "outputs": [],
   "source": [
    "#call the csv file made before\n",
    "\n",
    "tourism_df = pd.read_csv(\"Outputs/Tourism_Happiness.csv\")\n",
    "tourism_df = tourism_df.drop(\"Unnamed: 0\", 1)\n",
    "\n",
    "#make the scatter plot\n",
    "\n",
    "plt.scatter(tourism_df[\"Happines Score\"], tourism_df[\"2017\"], marker=\"o\", color=\"mediumorchid\", s= 80, edgecolors=\"black\", alpha=0.75)\n",
    "plt.ylim(-10000000, 100000000)\n",
    "plt.xlabel(\"Happiness Index\")\n",
    "plt.ylabel(\"Number of Tourists\")\n",
    "plt.title(\"Happiness vs Tourism\")\n",
    "plt.grid()\n",
    "plt.savefig(\"Graphs/Tourism.png\")\n",
    "plt.show()"
   ]
  },
  {
   "cell_type": "code",
   "execution_count": 12,
   "metadata": {},
   "outputs": [
    {
     "ename": "NameError",
     "evalue": "name 'X_axis' is not defined",
     "output_type": "error",
     "traceback": [
      "\u001b[1;31m---------------------------------------------------------------------------\u001b[0m",
      "\u001b[1;31mNameError\u001b[0m                                 Traceback (most recent call last)",
      "\u001b[1;32m<ipython-input-12-627b756d6521>\u001b[0m in \u001b[0;36m<module>\u001b[1;34m\u001b[0m\n\u001b[0;32m      5\u001b[0m \u001b[0mfit\u001b[0m \u001b[1;33m=\u001b[0m \u001b[0mslope\u001b[0m \u001b[1;33m*\u001b[0m \u001b[0mX_Axis\u001b[0m\u001b[1;33m+\u001b[0m \u001b[0mintercept\u001b[0m\u001b[1;33m\u001b[0m\u001b[1;33m\u001b[0m\u001b[0m\n\u001b[0;32m      6\u001b[0m \u001b[1;33m\u001b[0m\u001b[0m\n\u001b[1;32m----> 7\u001b[1;33m \u001b[0max\u001b[0m\u001b[1;33m.\u001b[0m\u001b[0mplot\u001b[0m\u001b[1;33m(\u001b[0m\u001b[0mX_axis\u001b[0m\u001b[1;33m,\u001b[0m \u001b[0mY_axis\u001b[0m\u001b[1;33m,\u001b[0m \u001b[0mlinewidth\u001b[0m\u001b[1;33m=\u001b[0m\u001b[1;36m0\u001b[0m\u001b[1;33m,\u001b[0m \u001b[0mmarker\u001b[0m\u001b[1;33m=\u001b[0m\u001b[1;34m'o'\u001b[0m\u001b[1;33m)\u001b[0m \u001b[1;31m#plot each instance\u001b[0m\u001b[1;33m\u001b[0m\u001b[1;33m\u001b[0m\u001b[0m\n\u001b[0m\u001b[0;32m      8\u001b[0m \u001b[0max\u001b[0m\u001b[1;33m.\u001b[0m\u001b[0mplot\u001b[0m\u001b[1;33m(\u001b[0m\u001b[0myear\u001b[0m\u001b[1;33m,\u001b[0m \u001b[0mfit\u001b[0m\u001b[1;33m,\u001b[0m \u001b[1;34m'r--'\u001b[0m\u001b[1;33m)\u001b[0m \u001b[1;31m#plot the regresion calc, with a red dotted line\u001b[0m\u001b[1;33m\u001b[0m\u001b[1;33m\u001b[0m\u001b[0m\n\u001b[0;32m      9\u001b[0m \u001b[0mplt\u001b[0m\u001b[1;33m.\u001b[0m\u001b[0mshow\u001b[0m\u001b[1;33m(\u001b[0m\u001b[1;33m)\u001b[0m\u001b[1;33m\u001b[0m\u001b[1;33m\u001b[0m\u001b[0m\n",
      "\u001b[1;31mNameError\u001b[0m: name 'X_axis' is not defined"
     ]
    }
   ],
   "source": [
    "(slope, intercept, r, p, error) = linregress(tourism_df['Happines Score'], tourism_df[\"2017\"])\n",
    "\n",
    "fit = slope * tourism_df['Happines Score'] + intercept\n",
    "\n",
    "ax.plot(tourism_df['Happines Score'], , linewidth=0, marker='o') #plot each instance\n",
    "ax.plot(year, fit, 'r--') #plot the regresion calc, with a red dotted line\n",
    "plt.show()"
   ]
  },
  {
   "cell_type": "code",
   "execution_count": null,
   "metadata": {},
   "outputs": [],
   "source": [
    "\n"
   ]
  },
  {
   "cell_type": "code",
   "execution_count": null,
   "metadata": {},
   "outputs": [],
   "source": []
  },
  {
   "cell_type": "markdown",
   "metadata": {},
   "source": [
    "Mariana"
   ]
  },
  {
   "cell_type": "markdown",
   "metadata": {},
   "source": [
    "# Comparing Countries Happiness Index with Coutries Average Temperature\n",
    "\n",
    "Does the average temperature of a country affect the country's happiness level? \n"
   ]
  },
  {
   "cell_type": "code",
   "execution_count": null,
   "metadata": {},
   "outputs": [],
   "source": [
    "#upload csv datasets \n",
    "happiness = 'Resources/WorldHappinessReport.csv'\n",
    "happinessReport=pd.read_csv(happiness)\n",
    "weather = 'Outputs/WeatherbyCity.csv'\n",
    "weatherReport=pd.read_csv(weather)\n"
   ]
  },
  {
   "cell_type": "code",
   "execution_count": null,
   "metadata": {},
   "outputs": [],
   "source": [
    "#Happiness\n",
    "happinessnew= happinessReport[['country', 'year', 'Life Ladder']].copy()\n",
    "happinessnew.head()\n",
    "happinessnew_2017 =happinessnew[happinessnew['year']==2017]\n",
    "happinessnew_2017=happinessnew_2017.rename(columns={'country': 'Country'})\n",
    "happinessnew_2017.head()"
   ]
  },
  {
   "cell_type": "code",
   "execution_count": null,
   "metadata": {},
   "outputs": [],
   "source": [
    "#merge weather and happiness together\n",
    "happy_weather_df = pd.merge(weatherReport, happinessnew_2017, on=\"Country\", how='inner', suffixes=(\"\",\"\"))\n",
    "happy_weather_df['Temperature'] = pd.to_numeric(happy_weather_df['Temperature'],errors='coerce')\n",
    "happy_weather_df.drop(columns=['Unnamed: 0']).head()"
   ]
  },
  {
   "cell_type": "code",
   "execution_count": null,
   "metadata": {},
   "outputs": [],
   "source": [
    "#Plot the correlation between weather and happiness\n",
    "plt.scatter(happy_weather_df[\"Temperature\"], happy_weather_df[\"Life Ladder\"], c=\"orange\", marker=\"o\", s=20)\n",
    "\n",
    "plt.title(\"World Happiness vs. Avg Temperature by Country\")\n",
    "plt.xlabel(\"Avg Temperature (F) by city/Country\")\n",
    "plt.ylabel(\"World Happiness\")\n",
    "plt.grid(True)"
   ]
  },
  {
   "cell_type": "markdown",
   "metadata": {},
   "source": [
    "Sandra"
   ]
  },
  {
   "cell_type": "markdown",
   "metadata": {},
   "source": [
    "# Comparing countries Happiness Index with the musical choices of their residents.\n",
    "Does the happines of the country determine the happiness level of the music they choose to listen? \n",
    "Does it correlate to the energy, speechinness or instrumentalness of their songs?"
   ]
  },
  {
   "cell_type": "code",
   "execution_count": null,
   "metadata": {},
   "outputs": [],
   "source": [
    "# load datasets\n",
    "RawSpotifyData = pd.read_csv('Outputs/SpotifyWithFeaturesFinal.csv')\n",
    "CountryCodeRaw = pd.read_csv('Resources/CountryCodesLookup.csv', encoding=\"ISO-8859-1\")\n",
    "CountryCodeRaw[\"region\"]=CountryCodeRaw[\"A2 (ISO)\"].str.lower()\n",
    "CountryCodeRaw[\"country\"]=CountryCodeRaw[\"COUNTRY\"]\n",
    "#Find CountryName from spotifyData Using the countryLookup file\n",
    "SpotifyDF=pd.merge(RawSpotifyData,CountryCodeRaw, on=\"region\", how='inner',suffixes=(\"\",\"\") )\n",
    "#summarize\n",
    "GroupByDF=RawSpotifyData.groupby(['region'])\n",
    "MusicProfileRaw=GroupByDF.mean()\n",
    "#Find CountryName from spotifyData Using the countryLookup file\n",
    "MusicProfileDF=pd.merge(MusicProfileRaw,CountryCodeRaw, on=\"region\", how='inner',suffixes=(\"\",\"\") )\n",
    "MusicProfileDF.head(1)\n",
    "\n",
    "#                                       final data set\n",
    "#merge with Happiness report\n",
    "MusicHappinessDF=pd.merge(MusicProfileDF,WHR_DF,on='country', how='inner',suffixes=(\"\",\"\")  )\n",
    "MusicHappinessDF.columns\n",
    "\n"
   ]
  },
  {
   "cell_type": "code",
   "execution_count": null,
   "metadata": {
    "scrolled": false
   },
   "outputs": [],
   "source": [
    "                        #Music happiness is a measure of how positive the songs are\n",
    "\n",
    "#scatterPlot\n",
    "fig,    ax = plt.subplots() \n",
    "ax.errorbar(MusicHappinessDF['Life Ladder'], MusicHappinessDF[\"happiness\"],  fmt=\"o\",color= 'r'\n",
    "               ,linewidth=0, markeredgecolor='black',markeredgewidth=1,markersize=10,label='label')\n",
    "\n",
    "\n",
    "plt.xlabel('Happiness Index')\n",
    "plt.ylabel('Music Happiness')\n",
    "plt.title(\"How Happy is the music of choice vs the country's happiness\")\n",
    "#save the image in the folder\n",
    "plt.savefig(\"Graphs/HappinessVsMusicPositivity.png\")\n",
    "plt.show()\n",
    "\n",
    "#regression\n",
    "\n",
    "\n",
    "(slope, intercept, r, p, error) = linregress(MusicHappinessDF['Life Ladder'], MusicHappinessDF[\"happiness\"])\n",
    "fit = slope * MusicHappinessDF[\"happiness\"] + intercept\n",
    "print(\"Music happiness vs country happiness is not a statistically significant model. R sqr= \" + str(r) + ' P-Value= ' + str(p))\n",
    "\n",
    "\n",
    "                                            #Music Energy\n",
    "fig,    ax = plt.subplots() \n",
    "ax.errorbar(MusicHappinessDF['Life Ladder'], MusicHappinessDF[\"energy\"],  fmt=\"o\",color= 'g'\n",
    "               ,linewidth=0, markeredgecolor='black',markeredgewidth=1,markersize=10,label='label')\n",
    "plt.xlabel('Happiness Index')\n",
    "plt.ylabel('Music Energy')\n",
    "plt.title(\"How energetic is the music of choice vs. the country's happiness\")\n",
    "#save the image in the folder\n",
    "plt.savefig(\"Graphs/HappinessVsMusicEnergy.png\")\n",
    "plt.show()\n",
    "\n",
    "#regression\n",
    "(slope, intercept, r, p, error) = linregress(MusicHappinessDF['Life Ladder'], MusicHappinessDF[\"energy\"])\n",
    "print(\"Music Energy vs country happiness is not a statistically significant model.  R sqr= \" + str(r) + ' P-Value= ' + str(p))\n",
    "\n",
    "\n",
    "                                        #Music Danceability\n",
    "fig,    ax = plt.subplots() \n",
    "ax.errorbar(MusicHappinessDF['Life Ladder'], MusicHappinessDF[\"danceability\"],  fmt=\"o\",color= 'b'\n",
    "               ,linewidth=0, markeredgecolor='black',markeredgewidth=1,markersize=10,label='label')\n",
    "plt.xlabel('Happiness Index')\n",
    "plt.ylabel('Music Danceability')\n",
    "plt.title(\"How danceable is the music of choice vs the country's happiness\")\n",
    "#save the image in the folder\n",
    "plt.savefig(\"Graphs/HappinessVsMusicDanceability.png\")\n",
    "plt.show()\n",
    "\n",
    "\n",
    "#regression\n",
    "(slope, intercept, r, p, error) = linregress(MusicHappinessDF['Life Ladder'], MusicHappinessDF[\"danceability\"])\n",
    "print(\"Music danceability vs country happiness is not a statistically significant model.  R sqr= \" + str(r) + ' P-Value= ' + str(p))\n",
    "\n",
    "\n",
    "                                        #Music Speachiness\n",
    "#scatterPlot\n",
    "fig,    ax = plt.subplots() \n",
    "ax.errorbar(MusicHappinessDF['Life Ladder'], MusicHappinessDF[\"speechiness\"],  fmt=\"o\",color= 'y'\n",
    "               ,linewidth=0, markeredgecolor='black',markeredgewidth=1,markersize=10,label='label')\n",
    "\n",
    "\n",
    "plt.xlabel('Happiness Index')\n",
    "plt.ylabel('Music speechiness')\n",
    "plt.title(\"How Wordy is the music of choice vs the country's happiness\")\n",
    "#save the image in the folder\n",
    "plt.savefig(\"Graphs/HappinessVsMusicSpeacheeness.png\")\n",
    "plt.show()\n",
    "\n",
    "\n",
    "#regression\n",
    "(slope, intercept, r, p, error) = linregress(MusicHappinessDF['Life Ladder'], MusicHappinessDF[\"speechiness\"])\n",
    "print(\"Music speechiness vs country happiness is not a statistically significant model.  R sqr= \" + str(r) + ' P-Value= ' + str(p))\n",
    "\n",
    "\n",
    "                                        # Music instrumentalness\n",
    "fig,    ax = plt.subplots() \n",
    "ax.errorbar(MusicHappinessDF['Life Ladder'], MusicHappinessDF[\"instrumentalness\"],  fmt=\"o\",color= 'orange'\n",
    "               ,linewidth=0, markeredgecolor='black',markeredgewidth=1,markersize=10,label='label')\n",
    "plt.xlabel('Happiness Index')\n",
    "plt.ylabel('Music instrumentalness')\n",
    "plt.title(\"How instrumental is the music of choice vs the country's happiness\")\n",
    "#save the image in the folder\n",
    "plt.savefig(\"Graphs/HappinessVsMusicInstrumentalness.png\")\n",
    "plt.show()\n",
    "\n",
    "#regression\n",
    "(slope, intercept, r, p, error) = linregress(MusicHappinessDF['Life Ladder'], MusicHappinessDF[\"instrumentalness\"])\n",
    "print(\"Music instrumentalness vs country happiness is not a statistically significant model.  R sqr= \" + str(r) + ' P-Value= ' + str(p))\n",
    "\n"
   ]
  },
  {
   "cell_type": "markdown",
   "metadata": {},
   "source": [
    "Side findings:\n",
    "Do countries have specific music profiles?\n",
    "What would be the music profile of the US? andd is there a song that fits that exact music profile?"
   ]
  },
  {
   "cell_type": "code",
   "execution_count": null,
   "metadata": {},
   "outputs": [],
   "source": [
    "country='us'\n",
    "\n",
    "CountryMusicProfileDF=MusicHappinessDF.loc[MusicHappinessDF[\"region\"]==country,:]\n",
    "CountryMusicProfileDF = CountryMusicProfileDF[[\"happiness\", \"energy\", \"danceability\" ,\"speechiness\" ]]\n",
    "CountryMusicProfileDF[\"Category\"]=\"\"\n",
    "CountryMusicProfileDF=CountryMusicProfileDF.set_index(\"Category\")\n",
    "\n",
    "graph=CountryMusicProfileDF.plot(kind=\"bar\", figsize=(20,3), color=['r','g','b','y'] )\n",
    "plt.ylabel('% value')\n",
    "plt.title(country +' Music Profile')\n",
    "plt.ylim(0,1)\n",
    "\n",
    "#save the image in the folder\n",
    "plt.savefig(\"Graphs/USMusicProfile.png\")\n",
    "plt.show()\n",
    "\n",
    "\n",
    "CountryMusicProfileDF.head()"
   ]
  },
  {
   "cell_type": "code",
   "execution_count": null,
   "metadata": {},
   "outputs": [],
   "source": [
    "# Can I find a song with this profile?\n",
    "\n",
    "happinessHigh=int((CountryMusicProfileDF[\"happiness\"]+.03)*100)/100\n",
    "happinessLow=int((CountryMusicProfileDF[\"happiness\"]-.03)*100)/100\n",
    "\n",
    "\n",
    "energyHigh=int((CountryMusicProfileDF[\"energy\"]+.03)*100)/100\n",
    "energyLow=int((CountryMusicProfileDF[\"energy\"]-.03)*100)/100\n",
    "\n",
    "\n",
    "\n",
    "danceabilityHigh=int((CountryMusicProfileDF[\"danceability\"]+.03)*100)/100\n",
    "danceabilityLow=int((CountryMusicProfileDF[\"danceability\"]-.03)*100)/100\n",
    "\n",
    "\n",
    "\n",
    "speechinessHigh=int((CountryMusicProfileDF[\"speechiness\"]+.03)*100)/100\n",
    "speechinessLow=int((CountryMusicProfileDF[\"speechiness\"]-.03)*100)/100\n",
    "\n",
    "\n",
    "\n",
    "FindSong=RawSpotifyData.loc[(RawSpotifyData[\"happiness\"]>happinessLow) \n",
    "                            &(RawSpotifyData[\"happiness\"]<happinessHigh) \n",
    "                            &(RawSpotifyData[\"energy\"]>energyLow) \n",
    "                            &(RawSpotifyData[\"energy\"]<energyHigh) \n",
    "                            &(RawSpotifyData[\"danceability\"]>danceabilityLow) \n",
    "                            &(RawSpotifyData[\"danceability\"]<danceabilityHigh) \n",
    "                            &(RawSpotifyData[\"speechiness\"]>speechinessLow) \n",
    "                            &(RawSpotifyData[\"speechiness\"]<speechinessHigh) \n",
    "                            \n",
    "                            \n",
    "                            \n",
    "                            \n",
    "                            \n",
    "                            \n",
    "                            ,:] \n",
    "FindSong[\"Track Name\"].head(1)"
   ]
  },
  {
   "cell_type": "markdown",
   "metadata": {},
   "source": [
    "https://www.youtube.com/watch?v=c73Cu3TQnlg"
   ]
  },
  {
   "cell_type": "markdown",
   "metadata": {},
   "source": []
  }
 ],
 "metadata": {
  "kernelspec": {
   "display_name": "Python 3",
   "language": "python",
   "name": "python3"
  },
  "language_info": {
   "codemirror_mode": {
    "name": "ipython",
    "version": 3
   },
   "file_extension": ".py",
   "mimetype": "text/x-python",
   "name": "python",
   "nbconvert_exporter": "python",
   "pygments_lexer": "ipython3",
   "version": "3.6.7"
  }
 },
 "nbformat": 4,
 "nbformat_minor": 2
}
