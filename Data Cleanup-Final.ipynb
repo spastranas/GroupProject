{
 "cells": [
  {
   "cell_type": "code",
   "execution_count": null,
   "metadata": {},
   "outputs": [],
   "source": [
    "#Dependencies\n",
    "import pandas as pd\n",
    "import random\n",
    "import numpy as np\n",
    "import matplotlib.pyplot as plt"
   ]
  },
  {
   "cell_type": "code",
   "execution_count": null,
   "metadata": {},
   "outputs": [],
   "source": []
  },
  {
   "cell_type": "markdown",
   "metadata": {},
   "source": [
    "Rafael"
   ]
  },
  {
   "cell_type": "code",
   "execution_count": null,
   "metadata": {},
   "outputs": [],
   "source": []
  },
  {
   "cell_type": "code",
   "execution_count": null,
   "metadata": {},
   "outputs": [],
   "source": []
  },
  {
   "cell_type": "code",
   "execution_count": null,
   "metadata": {},
   "outputs": [],
   "source": []
  },
  {
   "cell_type": "markdown",
   "metadata": {},
   "source": [
    "Arghavan"
   ]
  },
  {
   "cell_type": "code",
   "execution_count": null,
   "metadata": {},
   "outputs": [],
   "source": [
    "#Cleaning Happiness DF\n",
    "Happiness =  pd.read_csv('Resources/WorldHappinessReport.csv')\n",
    "Happiness_New = Happiness.drop(columns=['Delivery Quality', 'Democratic Quality', \n",
    "                                        'Standard deviation of ladder by country-year',\n",
    "                                        'Standard deviation/Mean of ladder by country-year',\n",
    "                                        'GINI index (World Bank estimate)', 'GINI index (World Bank estimate), average 2000-15',\n",
    "                                        'gini of household income reported in Gallup, by wp5-year'])\n",
    "\n",
    "Happiness_Updated = Happiness_New.loc[Happiness_New[\"year\"]==2016,:]\n",
    "Happiness_Olympics = Happiness_Updated.dropna()"
   ]
  },
  {
   "cell_type": "code",
   "execution_count": null,
   "metadata": {},
   "outputs": [],
   "source": [
    "#Cleaning Olympics DF\n",
    "CSV_athletes = pd.read_csv(\"Resources/120-years-of-olympic-history-athletes-and-results/athlete_events.csv\")\n",
    "CSV_countries =  pd.read_csv(\"Resources/120-years-of-olympic-history-athletes-and-results/noc_regions.csv\")\n",
    "\n",
    "#Cleaning Athletes DF\n",
    "CSV_athletes = CSV_athletes.drop(columns=['Season', 'City', 'Height', 'Weight'])\n",
    "CSV_athletes = CSV_athletes.loc[CSV_athletes[\"Year\"]==2016,:]\n",
    "CSV_athletes_updated = CSV_athletes.fillna(\"none\")\n",
    "\n",
    "#Merging Athletes and Country DF\n",
    "merged_athletes = pd.merge(CSV_athletes_updated, CSV_countries, on = \"NOC\", how = \"left\")\n",
    "merged_athletes = merged_athletes.rename(columns= {\"region\" : \"country\"})\n",
    "\n",
    "#Getting Number of Atheletes\n",
    "merged_athletes1 = merged_athletes.groupby(merged_athletes[\"country\"])\n",
    "Final_athletes = merged_athletes1[\"Name\"].count()\n",
    "Final_df = pd.DataFrame(Final_athletes)\n",
    "Final_df = Final_df.rename(columns= {\"Name\" : \"Number of Athletes\"})\n",
    "\n",
    "# Changin USA to United States so it merges with Happiness DF\n",
    "Final_df = Final_df.rename(index={\"USA\":'United States'})"
   ]
  },
  {
   "cell_type": "code",
   "execution_count": null,
   "metadata": {},
   "outputs": [],
   "source": [
    "#Creating Final DF\n",
    "Athlete_Happiness = pd.merge(Final_df, Happiness_Olympics, on = \"country\")\n",
    "Athlete_Happiness.to_csv(\"Outputs/Athlete_Happiness.csv\")"
   ]
  },
  {
   "cell_type": "markdown",
   "metadata": {},
   "source": [
    "Shayan"
   ]
  },
  {
   "cell_type": "code",
   "execution_count": null,
   "metadata": {
    "scrolled": true
   },
   "outputs": [],
   "source": [
    "happiness_df = pd.read_csv(\"Resources/WorldHappinessReport.csv\")\n",
    "tourism_df = pd.read_csv(\"Resources/Tourism.csv\", skiprows=3)\n",
    "happiness17_df = happiness_df.loc[(happiness_df[\"year\"] == 2017)]\n",
    "happiness_score = happiness17_df[[\"country\", \"Life Ladder\"]]\n",
    "happiness_score.columns = [\"Country Name\", \"Happines Score\"]\n",
    "tourism_number = tourism_df[[\"Country Name\", \"2017\"]]\n",
    "tourism_number = tourism_number.fillna(0)\n",
    "merge_table = pd.merge(happiness_score, tourism_number, on = \"Country Name\")\n",
    "merge_table.to_csv(\"Outputs/Tourism_Happiness.csv\")\n"
   ]
  },
  {
   "cell_type": "code",
   "execution_count": null,
   "metadata": {},
   "outputs": [],
   "source": []
  },
  {
   "cell_type": "code",
   "execution_count": null,
   "metadata": {},
   "outputs": [],
   "source": []
  },
  {
   "cell_type": "markdown",
   "metadata": {},
   "source": [
    "Mariana"
   ]
  },
  {
   "cell_type": "code",
   "execution_count": null,
   "metadata": {},
   "outputs": [],
   "source": []
  },
  {
   "cell_type": "code",
   "execution_count": null,
   "metadata": {},
   "outputs": [],
   "source": []
  },
  {
   "cell_type": "code",
   "execution_count": null,
   "metadata": {},
   "outputs": [],
   "source": []
  },
  {
   "cell_type": "markdown",
   "metadata": {},
   "source": [
    "Sandra"
   ]
  },
  {
   "cell_type": "code",
   "execution_count": null,
   "metadata": {},
   "outputs": [],
   "source": []
  },
  {
   "cell_type": "markdown",
   "metadata": {},
   "source": []
  }
 ],
 "metadata": {
  "kernelspec": {
   "display_name": "Python 3",
   "language": "python",
   "name": "python3"
  },
  "language_info": {
   "codemirror_mode": {
    "name": "ipython",
    "version": 3
   },
   "file_extension": ".py",
   "mimetype": "text/x-python",
   "name": "python",
   "nbconvert_exporter": "python",
   "pygments_lexer": "ipython3",
   "version": "3.6.7"
  }
 },
 "nbformat": 4,
 "nbformat_minor": 2
}
