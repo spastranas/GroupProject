{
 "cells": [
  {
   "cell_type": "code",
   "execution_count": 9,
   "metadata": {},
   "outputs": [],
   "source": [
    "import matplotlib.pyplot as plt\n",
    "import pandas as pd\n",
    "import numpy as np\n",
    "import requests\n",
    "import time\n",
    "import json\n",
    "\n",
    "#from citipy import citipy"
   ]
  },
  {
   "cell_type": "code",
   "execution_count": 12,
   "metadata": {},
   "outputs": [
    {
     "data": {
      "text/plain": [
       "{'coord': {'lon': -93.27, 'lat': 44.98},\n",
       " 'weather': [{'id': 500,\n",
       "   'main': 'Rain',\n",
       "   'description': 'light rain',\n",
       "   'icon': '10d'},\n",
       "  {'id': 701, 'main': 'Mist', 'description': 'mist', 'icon': '50d'},\n",
       "  {'id': 721, 'main': 'Haze', 'description': 'haze', 'icon': '50d'}],\n",
       " 'base': 'stations',\n",
       " 'main': {'temp': 283.05,\n",
       "  'pressure': 1014,\n",
       "  'humidity': 87,\n",
       "  'temp_min': 282.04,\n",
       "  'temp_max': 284.26},\n",
       " 'visibility': 6437,\n",
       " 'wind': {'speed': 3.1, 'deg': 140},\n",
       " 'rain': {'1h': 0.25},\n",
       " 'clouds': {'all': 90},\n",
       " 'dt': 1554575605,\n",
       " 'sys': {'type': 1,\n",
       "  'id': 5934,\n",
       "  'message': 0.008,\n",
       "  'country': 'US',\n",
       "  'sunrise': 1554551078,\n",
       "  'sunset': 1554597960},\n",
       " 'id': 5037649,\n",
       " 'name': 'Minneapolis',\n",
       " 'cod': 200}"
      ]
     },
     "execution_count": 12,
     "metadata": {},
     "output_type": "execute_result"
    }
   ],
   "source": [
    "base_url = \"http://api.openweathermap.org/data/2.5/weather?\"\n",
    "#city = \"Minneapolis\"\n",
    "url = base_url + \"appid=\" + \"082ff2cde1d396b2b896b2335daad199\" + \"&q=\" + city\n",
    "response = requests.get(url)\n",
    "response.json()"
   ]
  },
  {
   "cell_type": "code",
   "execution_count": 13,
   "metadata": {},
   "outputs": [],
   "source": [
    "city_name = []\n",
    "country = []\n",
    "min_temp= []\n",
    "max_temp=[]"
   ]
  },
  {
   "cell_type": "code",
   "execution_count": null,
   "metadata": {},
   "outputs": [],
   "source": [
    "# record = 1\n",
    "\n",
    "# #loop through all the cities\n",
    "\n",
    "# #for city in cities: \n",
    "    \n",
    "#     try: \n",
    "#         response = requests.get(f\"{url}&q={city}\").json() \n",
    "#         city_name.append(response[\"name\"])\n",
    "#         country.append(response[\"sys\"][\"country\"])\n",
    "#         date.append(response[\"dt\"])\n",
    "#         min_temp.append(response[\"main\"][\"temp_min\"])\n",
    "#         max_temp.append(response[\"main\"][\"temp_max\"])\n",
    "#         lat.append(response[\"coord\"][\"lat\"])\n",
    "#         lng.append(response[\"coord\"][\"lon\"])\n",
    "#         print(f\"Processing Record {record} of set {record}| {city}\")\n",
    "        \n",
    "#         # increase count\n",
    "#         record= record + 1\n",
    "        \n",
    "#         time.sleep(1.01)\n",
    "        \n",
    "#     except:\n",
    "#         print(\"City not found. Skipping...\")\n",
    "#     continue\n"
   ]
  }
 ],
 "metadata": {
  "kernelspec": {
   "display_name": "Python 3",
   "language": "python",
   "name": "python3"
  },
  "language_info": {
   "codemirror_mode": {
    "name": "ipython",
    "version": 3
   },
   "file_extension": ".py",
   "mimetype": "text/x-python",
   "name": "python",
   "nbconvert_exporter": "python",
   "pygments_lexer": "ipython3",
   "version": "3.7.0"
  }
 },
 "nbformat": 4,
 "nbformat_minor": 2
}
