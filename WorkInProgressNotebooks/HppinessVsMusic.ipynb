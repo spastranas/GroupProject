{
 "cells": [
  {
   "cell_type": "code",
   "execution_count": 1,
   "metadata": {},
   "outputs": [
    {
     "ename": "NameError",
     "evalue": "name 'pd' is not defined",
     "output_type": "error",
     "traceback": [
      "\u001b[1;31m---------------------------------------------------------------------------\u001b[0m",
      "\u001b[1;31mNameError\u001b[0m                                 Traceback (most recent call last)",
      "\u001b[1;32m<ipython-input-1-998cc43723fc>\u001b[0m in \u001b[0;36m<module>\u001b[1;34m\u001b[0m\n\u001b[0;32m      2\u001b[0m \u001b[0mfile\u001b[0m \u001b[1;33m=\u001b[0m \u001b[1;34m'../Resources/WorldHappinessReport.csv'\u001b[0m\u001b[1;33m\u001b[0m\u001b[1;33m\u001b[0m\u001b[0m\n\u001b[0;32m      3\u001b[0m \u001b[1;31m# The correct encoding must be used to read the CSV in pandas\u001b[0m\u001b[1;33m\u001b[0m\u001b[1;33m\u001b[0m\u001b[1;33m\u001b[0m\u001b[0m\n\u001b[1;32m----> 4\u001b[1;33m \u001b[0mRawData\u001b[0m \u001b[1;33m=\u001b[0m \u001b[0mpd\u001b[0m\u001b[1;33m.\u001b[0m\u001b[0mread_csv\u001b[0m\u001b[1;33m(\u001b[0m\u001b[0mfile\u001b[0m\u001b[1;33m)\u001b[0m\u001b[1;33m\u001b[0m\u001b[1;33m\u001b[0m\u001b[0m\n\u001b[0m\u001b[0;32m      5\u001b[0m \u001b[0mWHR_DF\u001b[0m\u001b[1;33m=\u001b[0m\u001b[0mRawData\u001b[0m\u001b[1;33m.\u001b[0m\u001b[0mloc\u001b[0m\u001b[1;33m[\u001b[0m\u001b[0mRawData\u001b[0m\u001b[1;33m[\u001b[0m\u001b[1;34m\"year\"\u001b[0m\u001b[1;33m]\u001b[0m\u001b[1;33m==\u001b[0m\u001b[1;36m2017\u001b[0m\u001b[1;33m,\u001b[0m\u001b[1;33m:\u001b[0m\u001b[1;33m]\u001b[0m\u001b[1;33m\u001b[0m\u001b[1;33m\u001b[0m\u001b[0m\n\u001b[0;32m      6\u001b[0m \u001b[0mWHR_DF\u001b[0m\u001b[1;33m.\u001b[0m\u001b[0mhead\u001b[0m\u001b[1;33m(\u001b[0m\u001b[1;36m1\u001b[0m\u001b[1;33m)\u001b[0m\u001b[1;33m\u001b[0m\u001b[1;33m\u001b[0m\u001b[0m\n",
      "\u001b[1;31mNameError\u001b[0m: name 'pd' is not defined"
     ]
    }
   ],
   "source": [
    "#create a dataframe from a file using pandas\n",
    "file = '../Resources/WorldHappinessReport.csv'\n",
    "# The correct encoding must be used to read the CSV in pandas\n",
    "RawData = pd.read_csv(file)\n",
    "WHR_DF=RawData.loc[RawData[\"year\"]==2017,:]\n",
    "WHR_DF.head(1)"
   ]
  },
  {
   "cell_type": "code",
   "execution_count": null,
   "metadata": {},
   "outputs": [],
   "source": [
    "#dependencies\n",
    "import pandas as pd\n",
    "import random\n",
    "import numpy as np\n",
    "import matplotlib.pyplot as plt"
   ]
  },
  {
   "cell_type": "code",
   "execution_count": null,
   "metadata": {
    "scrolled": true
   },
   "outputs": [],
   "source": [
    "RawSpotifyData = pd.read_csv('../Outputs/SpotifyWithFeaturesFinal.csv')\n",
    "CountryCodeRaw = pd.read_csv('../Resources/CountryCodesLookup.csv', encoding=\"ISO-8859-1\")\n",
    "CountryCodeRaw[\"region\"]=CountryCodeRaw[\"A2 (ISO)\"].str.lower()\n",
    "CountryCodeRaw[\"country\"]=CountryCodeRaw[\"COUNTRY\"]\n",
    "#Find CountryName from spotifyData Using the countryLookup file\n",
    "SpotifyDF=pd.merge(RawSpotifyData,CountryCodeRaw, on=\"region\", how='inner',suffixes=(\"\",\"\") )\n",
    "\n",
    "SpotifyDF.head(1)\n",
    "\n"
   ]
  },
  {
   "cell_type": "code",
   "execution_count": null,
   "metadata": {},
   "outputs": [],
   "source": [
    "GroupByDF=RawSpotifyData.groupby(['region'])\n",
    "MusicProfileRaw=GroupByDF.mean()\n",
    "\n",
    "#Find CountryName from spotifyData Using the countryLookup file\n",
    "MusicProfileDF=pd.merge(MusicProfileRaw,CountryCodeRaw, on=\"region\", how='inner',suffixes=(\"\",\"\") )\n",
    "MusicProfileDF.head(1)"
   ]
  },
  {
   "cell_type": "code",
   "execution_count": null,
   "metadata": {},
   "outputs": [],
   "source": [
    "#merge with Happiness report\n",
    "MusicHappinessDF=pd.merge(MusicProfileDF,WHR_DF,on='country', how='inner',suffixes=(\"\",\"\")  )\n",
    "len(MusicHappinessRaw)"
   ]
  },
  {
   "cell_type": "code",
   "execution_count": null,
   "metadata": {},
   "outputs": [],
   "source": [
    "MusicHappinessDF.columns"
   ]
  },
  {
   "cell_type": "code",
   "execution_count": null,
   "metadata": {
    "scrolled": true
   },
   "outputs": [],
   "source": [
    "fig,    ax = plt.subplots() \n",
    "ax.errorbar(MusicHappinessDF['Life Ladder'], MusicHappinessDF[\"happiness\"],  fmt=\"o\",color= 'r'\n",
    "               ,linewidth=0, markeredgecolor='black',markeredgewidth=1,markersize=10,label='label')\n",
    "\n",
    "plt.xlabel('Happiness Index')\n",
    "plt.ylabel('Music Happiness')\n",
    "plt.title(\"How Happy is the music of choice vs the coutnry happiness\")\n",
    "plt.show()\n",
    "\n",
    "\n"
   ]
  },
  {
   "cell_type": "code",
   "execution_count": null,
   "metadata": {},
   "outputs": [],
   "source": [
    "fig,    ax = plt.subplots() \n",
    "ax.errorbar(MusicHappinessDF['Life Ladder'], MusicHappinessDF[\"energy\"],  fmt=\"o\",color= 'r'\n",
    "               ,linewidth=0, markeredgecolor='black',markeredgewidth=1,markersize=10,label='label')\n",
    "plt.xlabel('Happiness Index')\n",
    "plt.ylabel('Music Energy')\n",
    "plt.title(\"How energetic is the music of choice vs. the coutnry happiness\")\n",
    "plt.show()"
   ]
  },
  {
   "cell_type": "code",
   "execution_count": null,
   "metadata": {
    "scrolled": true
   },
   "outputs": [],
   "source": [
    "fig,    ax = plt.subplots() \n",
    "ax.errorbar(MusicHappinessDF['Life Ladder'], MusicHappinessDF[\"danceability\"],  fmt=\"o\",color= 'r'\n",
    "               ,linewidth=0, markeredgecolor='black',markeredgewidth=1,markersize=10,label='label')\n",
    "plt.xlabel('Happiness Index')\n",
    "plt.ylabel('Music Danceability')\n",
    "plt.title(\"How danceable is the music of choice vs the coutnry happiness\")\n",
    "plt.show()"
   ]
  },
  {
   "cell_type": "code",
   "execution_count": null,
   "metadata": {},
   "outputs": [],
   "source": [
    "fig,    ax = plt.subplots() \n",
    "ax.errorbar(MusicHappinessDF['Life Ladder'], MusicHappinessDF[\"speechiness\"],  fmt=\"o\",color= 'r'\n",
    "               ,linewidth=0, markeredgecolor='black',markeredgewidth=1,markersize=10,label='label')\n",
    "\n",
    "plt.xlabel('Happiness Index')\n",
    "plt.ylabel('Music speechiness')\n",
    "plt.title(\"How Wordy is the music of choice vs the coutnry happiness\")\n",
    "plt.show()"
   ]
  },
  {
   "cell_type": "code",
   "execution_count": null,
   "metadata": {
    "scrolled": true
   },
   "outputs": [],
   "source": [
    "fig,    ax = plt.subplots() \n",
    "ax.errorbar(MusicHappinessDF['Life Ladder'], MusicHappinessDF[\"instrumentalness\"],  fmt=\"o\",color= 'r'\n",
    "               ,linewidth=0, markeredgecolor='black',markeredgewidth=1,markersize=10,label='label')\n",
    "plt.xlabel('Happiness Index')\n",
    "plt.ylabel('Music instrumentalness')\n",
    "plt.title(\"How instrumental is the music of choice vs the coutnry happiness\")\n",
    "plt.show()"
   ]
  },
  {
   "cell_type": "code",
   "execution_count": null,
   "metadata": {},
   "outputs": [],
   "source": [
    "country='us'\n",
    "\n",
    "CountryMusicProfileDF=MusicHappinessDF.loc[MusicHappinessDF[\"region\"]==country,:]\n",
    "CountryMusicProfileDF = CountryMusicProfileDF[[\"happiness\", \"energy\", \"danceability\" ,\"speechiness\" ]]\n",
    "CountryMusicProfileDF[\"Category\"]=\"\"\n",
    "CountryMusicProfileDF=CountryMusicProfileDF.set_index(\"Category\")\n",
    "\n",
    "graph=CountryMusicProfileDF.plot(kind=\"bar\", figsize=(20,3), color=['r','g','b','y'] )\n",
    "plt.ylabel('% value')\n",
    "plt.title(country +' Music Profile')\n",
    "plt.ylim(0,1)\n",
    "\n",
    "\n",
    "CountryMusicProfileDF.head()\n",
    "\n",
    "#NewDataframe = YourDataFrame.reset_index(drop=True)"
   ]
  },
  {
   "cell_type": "code",
   "execution_count": null,
   "metadata": {
    "scrolled": true
   },
   "outputs": [],
   "source": [
    "# Can I find a song with this profile?\n",
    "\n",
    "happinessHigh=int((CountryMusicProfileDF[\"happiness\"]+.03)*100)/100\n",
    "happinessLow=int((CountryMusicProfileDF[\"happiness\"]-.03)*100)/100\n",
    "\n",
    "\n",
    "energyHigh=int((CountryMusicProfileDF[\"energy\"]+.03)*100)/100\n",
    "energyLow=int((CountryMusicProfileDF[\"energy\"]-.03)*100)/100\n",
    "\n",
    "\n",
    "\n",
    "danceabilityHigh=int((CountryMusicProfileDF[\"danceability\"]+.03)*100)/100\n",
    "danceabilityLow=int((CountryMusicProfileDF[\"danceability\"]-.03)*100)/100\n",
    "\n",
    "\n",
    "\n",
    "speechinessHigh=int((CountryMusicProfileDF[\"speechiness\"]+.03)*100)/100\n",
    "speechinessLow=int((CountryMusicProfileDF[\"speechiness\"]-.03)*100)/100\n",
    "\n",
    "\n",
    "\n",
    "FindSong=RawSpotifyData.loc[(RawSpotifyData[\"happiness\"]>happinessLow) \n",
    "                            &(RawSpotifyData[\"happiness\"]<happinessHigh) \n",
    "                            &(RawSpotifyData[\"energy\"]>energyLow) \n",
    "                            &(RawSpotifyData[\"energy\"]<energyHigh) \n",
    "                            &(RawSpotifyData[\"danceability\"]>danceabilityLow) \n",
    "                            &(RawSpotifyData[\"danceability\"]<danceabilityHigh) \n",
    "                            &(RawSpotifyData[\"speechiness\"]>speechinessLow) \n",
    "                            &(RawSpotifyData[\"speechiness\"]<speechinessHigh) \n",
    "                            \n",
    "                            \n",
    "                            \n",
    "                            \n",
    "                            \n",
    "                            \n",
    "                            ,:] #0.645\n",
    "FindSong"
   ]
  },
  {
   "cell_type": "code",
   "execution_count": null,
   "metadata": {},
   "outputs": [],
   "source": [
    "CountryMusicProfileDF"
   ]
  }
 ],
 "metadata": {
  "kernelspec": {
   "display_name": "Python 3",
   "language": "python",
   "name": "python3"
  },
  "language_info": {
   "codemirror_mode": {
    "name": "ipython",
    "version": 3
   },
   "file_extension": ".py",
   "mimetype": "text/x-python",
   "name": "python",
   "nbconvert_exporter": "python",
   "pygments_lexer": "ipython3",
   "version": "3.6.7"
  }
 },
 "nbformat": 4,
 "nbformat_minor": 2
}
