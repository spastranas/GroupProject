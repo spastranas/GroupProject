{
 "cells": [
  {
   "cell_type": "code",
   "execution_count": 87,
   "metadata": {},
   "outputs": [
    {
     "data": {
      "text/html": [
       "<div>\n",
       "<style scoped>\n",
       "    .dataframe tbody tr th:only-of-type {\n",
       "        vertical-align: middle;\n",
       "    }\n",
       "\n",
       "    .dataframe tbody tr th {\n",
       "        vertical-align: top;\n",
       "    }\n",
       "\n",
       "    .dataframe thead th {\n",
       "        text-align: right;\n",
       "    }\n",
       "</style>\n",
       "<table border=\"1\" class=\"dataframe\">\n",
       "  <thead>\n",
       "    <tr style=\"text-align: right;\">\n",
       "      <th></th>\n",
       "      <th>country</th>\n",
       "      <th>year</th>\n",
       "      <th>Life Ladder</th>\n",
       "      <th>Log GDP per capita</th>\n",
       "      <th>Social support</th>\n",
       "      <th>Healthy life expectancy at birth</th>\n",
       "      <th>Freedom to make life choices</th>\n",
       "      <th>Generosity</th>\n",
       "      <th>Perceptions of corruption</th>\n",
       "      <th>Positive affect</th>\n",
       "      <th>Negative affect</th>\n",
       "      <th>Confidence in national government</th>\n",
       "      <th>Democratic Quality</th>\n",
       "      <th>Delivery Quality</th>\n",
       "      <th>Standard deviation of ladder by country-year</th>\n",
       "      <th>Standard deviation/Mean of ladder by country-year</th>\n",
       "      <th>GINI index (World Bank estimate)</th>\n",
       "      <th>GINI index (World Bank estimate), average 2000-15</th>\n",
       "      <th>gini of household income reported in Gallup, by wp5-year</th>\n",
       "    </tr>\n",
       "  </thead>\n",
       "  <tbody>\n",
       "    <tr>\n",
       "      <th>9</th>\n",
       "      <td>Afghanistan</td>\n",
       "      <td>2017</td>\n",
       "      <td>2.661718</td>\n",
       "      <td>7.460144</td>\n",
       "      <td>0.49088</td>\n",
       "      <td>52.339527</td>\n",
       "      <td>0.427011</td>\n",
       "      <td>-0.10634</td>\n",
       "      <td>0.954393</td>\n",
       "      <td>0.496349</td>\n",
       "      <td>0.371326</td>\n",
       "      <td>0.261179</td>\n",
       "      <td>NaN</td>\n",
       "      <td>NaN</td>\n",
       "      <td>1.454051</td>\n",
       "      <td>0.546283</td>\n",
       "      <td>NaN</td>\n",
       "      <td>NaN</td>\n",
       "      <td>0.286599</td>\n",
       "    </tr>\n",
       "  </tbody>\n",
       "</table>\n",
       "</div>"
      ],
      "text/plain": [
       "       country  year  Life Ladder  Log GDP per capita  Social support  \\\n",
       "9  Afghanistan  2017     2.661718            7.460144         0.49088   \n",
       "\n",
       "   Healthy life expectancy at birth  Freedom to make life choices  Generosity  \\\n",
       "9                         52.339527                      0.427011    -0.10634   \n",
       "\n",
       "   Perceptions of corruption  Positive affect  Negative affect  \\\n",
       "9                   0.954393         0.496349         0.371326   \n",
       "\n",
       "   Confidence in national government  Democratic Quality  Delivery Quality  \\\n",
       "9                           0.261179                 NaN               NaN   \n",
       "\n",
       "   Standard deviation of ladder by country-year  \\\n",
       "9                                      1.454051   \n",
       "\n",
       "   Standard deviation/Mean of ladder by country-year  \\\n",
       "9                                           0.546283   \n",
       "\n",
       "   GINI index (World Bank estimate)  \\\n",
       "9                               NaN   \n",
       "\n",
       "   GINI index (World Bank estimate), average 2000-15  \\\n",
       "9                                                NaN   \n",
       "\n",
       "   gini of household income reported in Gallup, by wp5-year  \n",
       "9                                           0.286599         "
      ]
     },
     "execution_count": 87,
     "metadata": {},
     "output_type": "execute_result"
    }
   ],
   "source": [
    "#create a dataframe from a file using pandas\n",
    "file = '../Resources/WorldHappinessReport.csv'\n",
    "# The correct encoding must be used to read the CSV in pandas\n",
    "RawData = pd.read_csv(file)\n",
    "WHR_DF=RawData.loc[RawData[\"year\"]==2017,:]\n",
    "WHR_DF.head(1)"
   ]
  },
  {
   "cell_type": "code",
   "execution_count": 88,
   "metadata": {},
   "outputs": [],
   "source": [
    "#dependencies\n",
    "import pandas as pd\n",
    "import random\n",
    "import numpy as np\n",
    "import matplotlib.pyplot as plt"
   ]
  },
  {
   "cell_type": "code",
   "execution_count": 89,
   "metadata": {
    "scrolled": true
   },
   "outputs": [
    {
     "data": {
      "text/html": [
       "<div>\n",
       "<style scoped>\n",
       "    .dataframe tbody tr th:only-of-type {\n",
       "        vertical-align: middle;\n",
       "    }\n",
       "\n",
       "    .dataframe tbody tr th {\n",
       "        vertical-align: top;\n",
       "    }\n",
       "\n",
       "    .dataframe thead th {\n",
       "        text-align: right;\n",
       "    }\n",
       "</style>\n",
       "<table border=\"1\" class=\"dataframe\">\n",
       "  <thead>\n",
       "    <tr style=\"text-align: right;\">\n",
       "      <th></th>\n",
       "      <th>Position</th>\n",
       "      <th>Track Name</th>\n",
       "      <th>Artist</th>\n",
       "      <th>Streams</th>\n",
       "      <th>date</th>\n",
       "      <th>region</th>\n",
       "      <th>id</th>\n",
       "      <th>uri</th>\n",
       "      <th>happiness</th>\n",
       "      <th>energy</th>\n",
       "      <th>...</th>\n",
       "      <th>loudness</th>\n",
       "      <th>speechiness</th>\n",
       "      <th>instrumentalness</th>\n",
       "      <th>COUNTRY</th>\n",
       "      <th>A2 (ISO)</th>\n",
       "      <th>A3 (UN)</th>\n",
       "      <th>NUM (UN)</th>\n",
       "      <th>DIALING CODE</th>\n",
       "      <th>spotifyFlag</th>\n",
       "      <th>country</th>\n",
       "    </tr>\n",
       "  </thead>\n",
       "  <tbody>\n",
       "    <tr>\n",
       "      <th>0</th>\n",
       "      <td>7</td>\n",
       "      <td>Back to You (feat. Bebe Rexha &amp; Digital Farm A...</td>\n",
       "      <td>Louis Tomlinson</td>\n",
       "      <td>5154</td>\n",
       "      <td>9/1/2017</td>\n",
       "      <td>th</td>\n",
       "      <td>7F9vK8hNFMml4GtHsaXui6</td>\n",
       "      <td>spotify:track:7F9vK8hNFMml4GtHsaXui6</td>\n",
       "      <td>0.645</td>\n",
       "      <td>0.53</td>\n",
       "      <td>...</td>\n",
       "      <td>-4.918</td>\n",
       "      <td>0.142</td>\n",
       "      <td>0.0</td>\n",
       "      <td>Thailand</td>\n",
       "      <td>TH</td>\n",
       "      <td>THA</td>\n",
       "      <td>764</td>\n",
       "      <td>66</td>\n",
       "      <td>1</td>\n",
       "      <td>Thailand</td>\n",
       "    </tr>\n",
       "  </tbody>\n",
       "</table>\n",
       "<p>1 rows × 21 columns</p>\n",
       "</div>"
      ],
      "text/plain": [
       "   Position                                         Track Name  \\\n",
       "0         7  Back to You (feat. Bebe Rexha & Digital Farm A...   \n",
       "\n",
       "            Artist  Streams      date region                      id  \\\n",
       "0  Louis Tomlinson     5154  9/1/2017     th  7F9vK8hNFMml4GtHsaXui6   \n",
       "\n",
       "                                    uri  happiness  energy    ...     \\\n",
       "0  spotify:track:7F9vK8hNFMml4GtHsaXui6      0.645    0.53    ...      \n",
       "\n",
       "   loudness  speechiness  instrumentalness   COUNTRY A2 (ISO) A3 (UN)  \\\n",
       "0    -4.918        0.142               0.0  Thailand       TH     THA   \n",
       "\n",
       "  NUM (UN)  DIALING CODE spotifyFlag   country  \n",
       "0      764            66           1  Thailand  \n",
       "\n",
       "[1 rows x 21 columns]"
      ]
     },
     "execution_count": 89,
     "metadata": {},
     "output_type": "execute_result"
    }
   ],
   "source": [
    "RawSpotifyData = pd.read_csv('../Outputs/SpotifyWithFeaturesFinal.csv')\n",
    "CountryCodeRaw = pd.read_csv('../Resources/CountryCodesLookup.csv', encoding=\"ISO-8859-1\")\n",
    "CountryCodeRaw[\"region\"]=CountryCodeRaw[\"A2 (ISO)\"].str.lower()\n",
    "CountryCodeRaw[\"country\"]=CountryCodeRaw[\"COUNTRY\"]\n",
    "#Find CountryName from spotifyData Using the countryLookup file\n",
    "SpotifyDF=pd.merge(RawSpotifyData,CountryCodeRaw, on=\"region\", how='inner',suffixes=(\"\",\"\") )\n",
    "\n",
    "SpotifyDF.head(1)\n",
    "\n"
   ]
  },
  {
   "cell_type": "code",
   "execution_count": 90,
   "metadata": {},
   "outputs": [
    {
     "data": {
      "text/html": [
       "<div>\n",
       "<style scoped>\n",
       "    .dataframe tbody tr th:only-of-type {\n",
       "        vertical-align: middle;\n",
       "    }\n",
       "\n",
       "    .dataframe tbody tr th {\n",
       "        vertical-align: top;\n",
       "    }\n",
       "\n",
       "    .dataframe thead th {\n",
       "        text-align: right;\n",
       "    }\n",
       "</style>\n",
       "<table border=\"1\" class=\"dataframe\">\n",
       "  <thead>\n",
       "    <tr style=\"text-align: right;\">\n",
       "      <th></th>\n",
       "      <th>region</th>\n",
       "      <th>Position</th>\n",
       "      <th>Streams</th>\n",
       "      <th>happiness</th>\n",
       "      <th>energy</th>\n",
       "      <th>danceability</th>\n",
       "      <th>loudness</th>\n",
       "      <th>speechiness</th>\n",
       "      <th>instrumentalness</th>\n",
       "      <th>COUNTRY</th>\n",
       "      <th>A2 (ISO)</th>\n",
       "      <th>A3 (UN)</th>\n",
       "      <th>NUM (UN)</th>\n",
       "      <th>DIALING CODE</th>\n",
       "      <th>spotifyFlag</th>\n",
       "      <th>country</th>\n",
       "    </tr>\n",
       "  </thead>\n",
       "  <tbody>\n",
       "    <tr>\n",
       "      <th>0</th>\n",
       "      <td>ar</td>\n",
       "      <td>100.5</td>\n",
       "      <td>38207.915833</td>\n",
       "      <td>0.626648</td>\n",
       "      <td>0.723108</td>\n",
       "      <td>0.698322</td>\n",
       "      <td>-5.17968</td>\n",
       "      <td>0.091372</td>\n",
       "      <td>0.002521</td>\n",
       "      <td>Argentina</td>\n",
       "      <td>AR</td>\n",
       "      <td>ARG</td>\n",
       "      <td>32</td>\n",
       "      <td>54</td>\n",
       "      <td>1</td>\n",
       "      <td>Argentina</td>\n",
       "    </tr>\n",
       "  </tbody>\n",
       "</table>\n",
       "</div>"
      ],
      "text/plain": [
       "  region  Position       Streams  happiness    energy  danceability  loudness  \\\n",
       "0     ar     100.5  38207.915833   0.626648  0.723108      0.698322  -5.17968   \n",
       "\n",
       "   speechiness  instrumentalness    COUNTRY A2 (ISO) A3 (UN)  NUM (UN)  \\\n",
       "0     0.091372          0.002521  Argentina       AR     ARG        32   \n",
       "\n",
       "  DIALING CODE  spotifyFlag    country  \n",
       "0           54            1  Argentina  "
      ]
     },
     "execution_count": 90,
     "metadata": {},
     "output_type": "execute_result"
    }
   ],
   "source": [
    "GroupByDF=RawSpotifyData.groupby(['region'])\n",
    "MusicProfileRaw=GroupByDF.mean()\n",
    "\n",
    "#Find CountryName from spotifyData Using the countryLookup file\n",
    "MusicProfileDF=pd.merge(MusicProfileRaw,CountryCodeRaw, on=\"region\", how='inner',suffixes=(\"\",\"\") )\n",
    "MusicProfileDF.head(1)"
   ]
  },
  {
   "cell_type": "code",
   "execution_count": 91,
   "metadata": {},
   "outputs": [
    {
     "data": {
      "text/plain": [
       "52"
      ]
     },
     "execution_count": 91,
     "metadata": {},
     "output_type": "execute_result"
    }
   ],
   "source": [
    "#merge with Happiness report\n",
    "MusicHappinessDF=pd.merge(MusicProfileDF,WHR_DF,on='country', how='inner',suffixes=(\"\",\"\")  )\n",
    "len(MusicHappinessRaw)"
   ]
  },
  {
   "cell_type": "code",
   "execution_count": 92,
   "metadata": {},
   "outputs": [
    {
     "data": {
      "text/plain": [
       "Index(['region', 'Position', 'Streams', 'happiness', 'energy', 'danceability',\n",
       "       'loudness', 'speechiness', 'instrumentalness', 'COUNTRY', 'A2 (ISO)',\n",
       "       'A3 (UN)', 'NUM (UN)', 'DIALING CODE', 'spotifyFlag', 'country', 'year',\n",
       "       'Life Ladder', 'Log GDP per capita', 'Social support',\n",
       "       'Healthy life expectancy at birth', 'Freedom to make life choices',\n",
       "       'Generosity', 'Perceptions of corruption', 'Positive affect',\n",
       "       'Negative affect', 'Confidence in national government',\n",
       "       'Democratic Quality', 'Delivery Quality',\n",
       "       'Standard deviation of ladder by country-year',\n",
       "       'Standard deviation/Mean of ladder by country-year',\n",
       "       'GINI index (World Bank estimate)',\n",
       "       'GINI index (World Bank estimate), average 2000-15',\n",
       "       'gini of household income reported in Gallup, by wp5-year'],\n",
       "      dtype='object')"
      ]
     },
     "execution_count": 92,
     "metadata": {},
     "output_type": "execute_result"
    }
   ],
   "source": [
    "MusicHappinessDF.columns"
   ]
  },
  {
   "cell_type": "code",
   "execution_count": 93,
   "metadata": {
    "scrolled": true
   },
   "outputs": [
    {
     "data": {
      "image/png": "[encoded data removed]",
      "text/plain": [
       "<Figure size 432x288 with 1 Axes>"
      ]
     },
     "metadata": {
      "needs_background": "light"
     },
     "output_type": "display_data"
    }
   ],
   "source": [
    "fig,    ax = plt.subplots() \n",
    "ax.errorbar(MusicHappinessDF['Life Ladder'], MusicHappinessDF[\"happiness\"],  fmt=\"o\",color= 'r'\n",
    "               ,linewidth=0, markeredgecolor='black',markeredgewidth=1,markersize=10,label='label')\n",
    "\n",
    "plt.xlabel('Happiness Index')\n",
    "plt.ylabel('Music Happiness')\n",
    "plt.title(\"How Happy is the music of choice vs the coutnry happiness\")\n",
    "plt.show()\n",
    "\n",
    "\n"
   ]
  },
  {
   "cell_type": "code",
   "execution_count": 94,
   "metadata": {},
   "outputs": [
    {
     "data": {
      "image/png": "[encoded data removed]",
      "text/plain": [
       "<Figure size 432x288 with 1 Axes>"
      ]
     },
     "metadata": {
      "needs_background": "light"
     },
     "output_type": "display_data"
    }
   ],
   "source": [
    "fig,    ax = plt.subplots() \n",
    "ax.errorbar(MusicHappinessDF['Life Ladder'], MusicHappinessDF[\"energy\"],  fmt=\"o\",color= 'r'\n",
    "               ,linewidth=0, markeredgecolor='black',markeredgewidth=1,markersize=10,label='label')\n",
    "plt.xlabel('Happiness Index')\n",
    "plt.ylabel('Music Energy')\n",
    "plt.title(\"How energetic is the music of choice vs. the coutnry happiness\")\n",
    "plt.show()"
   ]
  },
  {
   "cell_type": "code",
   "execution_count": 95,
   "metadata": {
    "scrolled": true
   },
   "outputs": [
    {
     "data": {
      "image/png": "[encoded data removed]",
      "text/plain": [
       "<Figure size 432x288 with 1 Axes>"
      ]
     },
     "metadata": {
      "needs_background": "light"
     },
     "output_type": "display_data"
    }
   ],
   "source": [
    "fig,    ax = plt.subplots() \n",
    "ax.errorbar(MusicHappinessDF['Life Ladder'], MusicHappinessDF[\"danceability\"],  fmt=\"o\",color= 'r'\n",
    "               ,linewidth=0, markeredgecolor='black',markeredgewidth=1,markersize=10,label='label')\n",
    "plt.xlabel('Happiness Index')\n",
    "plt.ylabel('Music Danceability')\n",
    "plt.title(\"How danceable is the music of choice vs the coutnry happiness\")\n",
    "plt.show()"
   ]
  },
  {
   "cell_type": "code",
   "execution_count": 96,
   "metadata": {},
   "outputs": [
    {
     "data": {
      "image/png": "[encoded data removed]",
      "text/plain": [
       "<Figure size 432x288 with 1 Axes>"
      ]
     },
     "metadata": {
      "needs_background": "light"
     },
     "output_type": "display_data"
    }
   ],
   "source": [
    "fig,    ax = plt.subplots() \n",
    "ax.errorbar(MusicHappinessDF['Life Ladder'], MusicHappinessDF[\"speechiness\"],  fmt=\"o\",color= 'r'\n",
    "               ,linewidth=0, markeredgecolor='black',markeredgewidth=1,markersize=10,label='label')\n",
    "\n",
    "plt.xlabel('Happiness Index')\n",
    "plt.ylabel('Music speechiness')\n",
    "plt.title(\"How Wordy is the music of choice vs the coutnry happiness\")\n",
    "plt.show()"
   ]
  },
  {
   "cell_type": "code",
   "execution_count": 97,
   "metadata": {
    "scrolled": true
   },
   "outputs": [
    {
     "data": {
      "image/png": "[encoded data removed]",
      "text/plain": [
       "<Figure size 432x288 with 1 Axes>"
      ]
     },
     "metadata": {
      "needs_background": "light"
     },
     "output_type": "display_data"
    }
   ],
   "source": [
    "fig,    ax = plt.subplots() \n",
    "ax.errorbar(MusicHappinessDF['Life Ladder'], MusicHappinessDF[\"instrumentalness\"],  fmt=\"o\",color= 'r'\n",
    "               ,linewidth=0, markeredgecolor='black',markeredgewidth=1,markersize=10,label='label')\n",
    "plt.xlabel('Happiness Index')\n",
    "plt.ylabel('Music instrumentalness')\n",
    "plt.title(\"How instrumental is the music of choice vs the coutnry happiness\")\n",
    "plt.show()"
   ]
  },
  {
   "cell_type": "code",
   "execution_count": 159,
   "metadata": {},
   "outputs": [
    {
     "data": {
      "text/html": [
       "<div>\n",
       "<style scoped>\n",
       "    .dataframe tbody tr th:only-of-type {\n",
       "        vertical-align: middle;\n",
       "    }\n",
       "\n",
       "    .dataframe tbody tr th {\n",
       "        vertical-align: top;\n",
       "    }\n",
       "\n",
       "    .dataframe thead th {\n",
       "        text-align: right;\n",
       "    }\n",
       "</style>\n",
       "<table border=\"1\" class=\"dataframe\">\n",
       "  <thead>\n",
       "    <tr style=\"text-align: right;\">\n",
       "      <th></th>\n",
       "      <th>happiness</th>\n",
       "      <th>energy</th>\n",
       "      <th>danceability</th>\n",
       "      <th>speechiness</th>\n",
       "    </tr>\n",
       "    <tr>\n",
       "      <th>Category</th>\n",
       "      <th></th>\n",
       "      <th></th>\n",
       "      <th></th>\n",
       "      <th></th>\n",
       "    </tr>\n",
       "  </thead>\n",
       "  <tbody>\n",
       "    <tr>\n",
       "      <th></th>\n",
       "      <td>0.451718</td>\n",
       "      <td>0.602584</td>\n",
       "      <td>0.703109</td>\n",
       "      <td>0.145163</td>\n",
       "    </tr>\n",
       "  </tbody>\n",
       "</table>\n",
       "</div>"
      ],
      "text/plain": [
       "          happiness    energy  danceability  speechiness\n",
       "Category                                                \n",
       "           0.451718  0.602584      0.703109     0.145163"
      ]
     },
     "execution_count": 159,
     "metadata": {},
     "output_type": "execute_result"
    },
    {
     "data": {
      "image/png": "[encoded data removed]",
      "text/plain": [
       "<Figure size 1440x216 with 1 Axes>"
      ]
     },
     "metadata": {
      "needs_background": "light"
     },
     "output_type": "display_data"
    }
   ],
   "source": [
    "country='us'\n",
    "\n",
    "CountryMusicProfileDF=MusicHappinessDF.loc[MusicHappinessDF[\"region\"]==country,:]\n",
    "CountryMusicProfileDF = CountryMusicProfileDF[[\"happiness\", \"energy\", \"danceability\" ,\"speechiness\" ]]\n",
    "CountryMusicProfileDF[\"Category\"]=\"\"\n",
    "CountryMusicProfileDF=CountryMusicProfileDF.set_index(\"Category\")\n",
    "\n",
    "graph=CountryMusicProfileDF.plot(kind=\"bar\", figsize=(20,3), color=['r','g','b','y'] )\n",
    "plt.ylabel('% value')\n",
    "plt.title(country +' Music Profile')\n",
    "plt.ylim(0,1)\n",
    "\n",
    "\n",
    "CountryMusicProfileDF.head()\n",
    "\n",
    "#NewDataframe = YourDataFrame.reset_index(drop=True)"
   ]
  },
  {
   "cell_type": "code",
   "execution_count": 118,
   "metadata": {
    "scrolled": true
   },
   "outputs": [
    {
     "data": {
      "text/html": [
       "<div>\n",
       "<style scoped>\n",
       "    .dataframe tbody tr th:only-of-type {\n",
       "        vertical-align: middle;\n",
       "    }\n",
       "\n",
       "    .dataframe tbody tr th {\n",
       "        vertical-align: top;\n",
       "    }\n",
       "\n",
       "    .dataframe thead th {\n",
       "        text-align: right;\n",
       "    }\n",
       "</style>\n",
       "<table border=\"1\" class=\"dataframe\">\n",
       "  <thead>\n",
       "    <tr style=\"text-align: right;\">\n",
       "      <th></th>\n",
       "      <th>Position</th>\n",
       "      <th>Track Name</th>\n",
       "      <th>Artist</th>\n",
       "      <th>Streams</th>\n",
       "      <th>date</th>\n",
       "      <th>region</th>\n",
       "      <th>id</th>\n",
       "      <th>uri</th>\n",
       "      <th>happiness</th>\n",
       "      <th>energy</th>\n",
       "      <th>danceability</th>\n",
       "      <th>loudness</th>\n",
       "      <th>speechiness</th>\n",
       "      <th>instrumentalness</th>\n",
       "    </tr>\n",
       "  </thead>\n",
       "  <tbody>\n",
       "    <tr>\n",
       "      <th>13957</th>\n",
       "      <td>155</td>\n",
       "      <td>Because I Love You</td>\n",
       "      <td>Chef'Special</td>\n",
       "      <td>20194</td>\n",
       "      <td>3/3/2017</td>\n",
       "      <td>nl</td>\n",
       "      <td>2BCLBZfNk1n4URI8lKEpQV</td>\n",
       "      <td>spotify:track:2BCLBZfNk1n4URI8lKEpQV</td>\n",
       "      <td>0.508</td>\n",
       "      <td>0.688</td>\n",
       "      <td>0.654</td>\n",
       "      <td>-5.695</td>\n",
       "      <td>0.0964</td>\n",
       "      <td>0.000000</td>\n",
       "    </tr>\n",
       "    <tr>\n",
       "      <th>30416</th>\n",
       "      <td>15</td>\n",
       "      <td>Habibi</td>\n",
       "      <td>Ghali</td>\n",
       "      <td>100218</td>\n",
       "      <td>11/24/2017</td>\n",
       "      <td>it</td>\n",
       "      <td>1lwpe8mLgHhytakM7m6R3W</td>\n",
       "      <td>spotify:track:1lwpe8mLgHhytakM7m6R3W</td>\n",
       "      <td>0.523</td>\n",
       "      <td>0.711</td>\n",
       "      <td>0.649</td>\n",
       "      <td>-6.924</td>\n",
       "      <td>0.1030</td>\n",
       "      <td>0.000003</td>\n",
       "    </tr>\n",
       "    <tr>\n",
       "      <th>32896</th>\n",
       "      <td>26</td>\n",
       "      <td>Habibi</td>\n",
       "      <td>Ghali</td>\n",
       "      <td>70710</td>\n",
       "      <td>9/1/2017</td>\n",
       "      <td>it</td>\n",
       "      <td>1lwpe8mLgHhytakM7m6R3W</td>\n",
       "      <td>spotify:track:1lwpe8mLgHhytakM7m6R3W</td>\n",
       "      <td>0.523</td>\n",
       "      <td>0.711</td>\n",
       "      <td>0.649</td>\n",
       "      <td>-6.924</td>\n",
       "      <td>0.1030</td>\n",
       "      <td>0.000003</td>\n",
       "    </tr>\n",
       "    <tr>\n",
       "      <th>40555</th>\n",
       "      <td>69</td>\n",
       "      <td>Habibi</td>\n",
       "      <td>Ghali</td>\n",
       "      <td>35335</td>\n",
       "      <td>7/7/2017</td>\n",
       "      <td>it</td>\n",
       "      <td>1lwpe8mLgHhytakM7m6R3W</td>\n",
       "      <td>spotify:track:1lwpe8mLgHhytakM7m6R3W</td>\n",
       "      <td>0.523</td>\n",
       "      <td>0.711</td>\n",
       "      <td>0.649</td>\n",
       "      <td>-6.924</td>\n",
       "      <td>0.1030</td>\n",
       "      <td>0.000003</td>\n",
       "    </tr>\n",
       "  </tbody>\n",
       "</table>\n",
       "</div>"
      ],
      "text/plain": [
       "       Position          Track Name        Artist  Streams        date region  \\\n",
       "13957       155  Because I Love You  Chef'Special    20194    3/3/2017     nl   \n",
       "30416        15              Habibi         Ghali   100218  11/24/2017     it   \n",
       "32896        26              Habibi         Ghali    70710    9/1/2017     it   \n",
       "40555        69              Habibi         Ghali    35335    7/7/2017     it   \n",
       "\n",
       "                           id                                   uri  \\\n",
       "13957  2BCLBZfNk1n4URI8lKEpQV  spotify:track:2BCLBZfNk1n4URI8lKEpQV   \n",
       "30416  1lwpe8mLgHhytakM7m6R3W  spotify:track:1lwpe8mLgHhytakM7m6R3W   \n",
       "32896  1lwpe8mLgHhytakM7m6R3W  spotify:track:1lwpe8mLgHhytakM7m6R3W   \n",
       "40555  1lwpe8mLgHhytakM7m6R3W  spotify:track:1lwpe8mLgHhytakM7m6R3W   \n",
       "\n",
       "       happiness  energy  danceability  loudness  speechiness  \\\n",
       "13957      0.508   0.688         0.654    -5.695       0.0964   \n",
       "30416      0.523   0.711         0.649    -6.924       0.1030   \n",
       "32896      0.523   0.711         0.649    -6.924       0.1030   \n",
       "40555      0.523   0.711         0.649    -6.924       0.1030   \n",
       "\n",
       "       instrumentalness  \n",
       "13957          0.000000  \n",
       "30416          0.000003  \n",
       "32896          0.000003  \n",
       "40555          0.000003  "
      ]
     },
     "execution_count": 118,
     "metadata": {},
     "output_type": "execute_result"
    }
   ],
   "source": [
    "# Can I find a song with this profile?\n",
    "\n",
    "happinessHigh=int((CountryMusicProfileDF[\"happiness\"]+.03)*100)/100\n",
    "happinessLow=int((CountryMusicProfileDF[\"happiness\"]-.03)*100)/100\n",
    "\n",
    "\n",
    "energyHigh=int((CountryMusicProfileDF[\"energy\"]+.03)*100)/100\n",
    "energyLow=int((CountryMusicProfileDF[\"energy\"]-.03)*100)/100\n",
    "\n",
    "\n",
    "\n",
    "danceabilityHigh=int((CountryMusicProfileDF[\"danceability\"]+.03)*100)/100\n",
    "danceabilityLow=int((CountryMusicProfileDF[\"danceability\"]-.03)*100)/100\n",
    "\n",
    "\n",
    "\n",
    "speechinessHigh=int((CountryMusicProfileDF[\"speechiness\"]+.03)*100)/100\n",
    "speechinessLow=int((CountryMusicProfileDF[\"speechiness\"]-.03)*100)/100\n",
    "\n",
    "\n",
    "\n",
    "FindSong=RawSpotifyData.loc[(RawSpotifyData[\"happiness\"]>happinessLow) \n",
    "                            &(RawSpotifyData[\"happiness\"]<happinessHigh) \n",
    "                            &(RawSpotifyData[\"energy\"]>energyLow) \n",
    "                            &(RawSpotifyData[\"energy\"]<energyHigh) \n",
    "                            &(RawSpotifyData[\"danceability\"]>danceabilityLow) \n",
    "                            &(RawSpotifyData[\"danceability\"]<danceabilityHigh) \n",
    "                            &(RawSpotifyData[\"speechiness\"]>speechinessLow) \n",
    "                            &(RawSpotifyData[\"speechiness\"]<speechinessHigh) \n",
    "                            \n",
    "                            \n",
    "                            \n",
    "                            \n",
    "                            \n",
    "                            \n",
    "                            ,:] #0.645\n",
    "FindSong"
   ]
  },
  {
   "cell_type": "code",
   "execution_count": 77,
   "metadata": {},
   "outputs": [
    {
     "data": {
      "text/html": [
       "<div>\n",
       "<style scoped>\n",
       "    .dataframe tbody tr th:only-of-type {\n",
       "        vertical-align: middle;\n",
       "    }\n",
       "\n",
       "    .dataframe tbody tr th {\n",
       "        vertical-align: top;\n",
       "    }\n",
       "\n",
       "    .dataframe thead th {\n",
       "        text-align: right;\n",
       "    }\n",
       "</style>\n",
       "<table border=\"1\" class=\"dataframe\">\n",
       "  <thead>\n",
       "    <tr style=\"text-align: right;\">\n",
       "      <th></th>\n",
       "      <th>region</th>\n",
       "      <th>Position</th>\n",
       "      <th>Streams</th>\n",
       "      <th>happiness</th>\n",
       "      <th>energy</th>\n",
       "      <th>danceability</th>\n",
       "      <th>loudness</th>\n",
       "      <th>speechiness</th>\n",
       "      <th>instrumentalness</th>\n",
       "      <th>COUNTRY</th>\n",
       "      <th>...</th>\n",
       "      <th>Positive affect</th>\n",
       "      <th>Negative affect</th>\n",
       "      <th>Confidence in national government</th>\n",
       "      <th>Democratic Quality</th>\n",
       "      <th>Delivery Quality</th>\n",
       "      <th>Standard deviation of ladder by country-year</th>\n",
       "      <th>Standard deviation/Mean of ladder by country-year</th>\n",
       "      <th>GINI index (World Bank estimate)</th>\n",
       "      <th>GINI index (World Bank estimate), average 2000-15</th>\n",
       "      <th>gini of household income reported in Gallup, by wp5-year</th>\n",
       "    </tr>\n",
       "  </thead>\n",
       "  <tbody>\n",
       "    <tr>\n",
       "      <th>50</th>\n",
       "      <td>us</td>\n",
       "      <td>100.5</td>\n",
       "      <td>380952.54125</td>\n",
       "      <td>0.451718</td>\n",
       "      <td>0.602584</td>\n",
       "      <td>0.703109</td>\n",
       "      <td>-6.670432</td>\n",
       "      <td>0.145163</td>\n",
       "      <td>0.006894</td>\n",
       "      <td>United States</td>\n",
       "      <td>...</td>\n",
       "      <td>0.826555</td>\n",
       "      <td>0.268269</td>\n",
       "      <td>0.386535</td>\n",
       "      <td>NaN</td>\n",
       "      <td>NaN</td>\n",
       "      <td>1.880688</td>\n",
       "      <td>0.268986</td>\n",
       "      <td>NaN</td>\n",
       "      <td>0.4068</td>\n",
       "      <td>0.610804</td>\n",
       "    </tr>\n",
       "  </tbody>\n",
       "</table>\n",
       "<p>1 rows × 34 columns</p>\n",
       "</div>"
      ],
      "text/plain": [
       "   region  Position       Streams  happiness    energy  danceability  \\\n",
       "50     us     100.5  380952.54125   0.451718  0.602584      0.703109   \n",
       "\n",
       "    loudness  speechiness  instrumentalness        COUNTRY  \\\n",
       "50 -6.670432     0.145163          0.006894  United States   \n",
       "\n",
       "                              ...                            Positive affect  \\\n",
       "50                            ...                                   0.826555   \n",
       "\n",
       "   Negative affect  Confidence in national government Democratic Quality  \\\n",
       "50        0.268269                           0.386535                NaN   \n",
       "\n",
       "    Delivery Quality Standard deviation of ladder by country-year  \\\n",
       "50               NaN                                     1.880688   \n",
       "\n",
       "    Standard deviation/Mean of ladder by country-year  \\\n",
       "50                                           0.268986   \n",
       "\n",
       "    GINI index (World Bank estimate)  \\\n",
       "50                               NaN   \n",
       "\n",
       "    GINI index (World Bank estimate), average 2000-15  \\\n",
       "50                                             0.4068   \n",
       "\n",
       "    gini of household income reported in Gallup, by wp5-year  \n",
       "50                                           0.610804         \n",
       "\n",
       "[1 rows x 34 columns]"
      ]
     },
     "execution_count": 77,
     "metadata": {},
     "output_type": "execute_result"
    }
   ],
   "source": [
    "CountryMusicProfileDF"
   ]
  }
 ],
 "metadata": {
  "kernelspec": {
   "display_name": "Python 3",
   "language": "python",
   "name": "python3"
  },
  "language_info": {
   "codemirror_mode": {
    "name": "ipython",
    "version": 3
   },
   "file_extension": ".py",
   "mimetype": "text/x-python",
   "name": "python",
   "nbconvert_exporter": "python",
   "pygments_lexer": "ipython3",
   "version": "3.6.7"
  }
 },
 "nbformat": 4,
 "nbformat_minor": 2
}
