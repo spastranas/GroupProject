{
 "cells": [
  {
   "cell_type": "code",
   "execution_count": 1,
   "metadata": {},
   "outputs": [],
   "source": [
    "import requests\n",
    "import json\n",
    "import os\n",
    "import pandas as pd\n",
    "import numpy as np\n",
    "from pprint import pprint"
   ]
  },
  {
   "cell_type": "code",
   "execution_count": 3,
   "metadata": {},
   "outputs": [
    {
     "data": {
      "text/html": [
       "<div>\n",
       "<style scoped>\n",
       "    .dataframe tbody tr th:only-of-type {\n",
       "        vertical-align: middle;\n",
       "    }\n",
       "\n",
       "    .dataframe tbody tr th {\n",
       "        vertical-align: top;\n",
       "    }\n",
       "\n",
       "    .dataframe thead th {\n",
       "        text-align: right;\n",
       "    }\n",
       "</style>\n",
       "<table border=\"1\" class=\"dataframe\">\n",
       "  <thead>\n",
       "    <tr style=\"text-align: right;\">\n",
       "      <th></th>\n",
       "      <th>Position</th>\n",
       "      <th>Track Name</th>\n",
       "      <th>Artist</th>\n",
       "      <th>Streams</th>\n",
       "      <th>date</th>\n",
       "      <th>region</th>\n",
       "      <th>id</th>\n",
       "      <th>uri</th>\n",
       "      <th>happiness</th>\n",
       "      <th>energy</th>\n",
       "      <th>danceability</th>\n",
       "      <th>loudness</th>\n",
       "      <th>speechiness</th>\n",
       "      <th>instrumentalness</th>\n",
       "    </tr>\n",
       "  </thead>\n",
       "  <tbody>\n",
       "    <tr>\n",
       "      <th>0</th>\n",
       "      <td>65</td>\n",
       "      <td>Bum Bum Tam Tam</td>\n",
       "      <td>MC Fioti</td>\n",
       "      <td>111915</td>\n",
       "      <td>11/24/2017</td>\n",
       "      <td>br</td>\n",
       "      <td>7KBfjlQ85Fqs2MCCvXSW0c</td>\n",
       "      <td>spotify:track:7KBfjlQ85Fqs2MCCvXSW0c</td>\n",
       "      <td></td>\n",
       "      <td></td>\n",
       "      <td></td>\n",
       "      <td></td>\n",
       "      <td></td>\n",
       "      <td></td>\n",
       "    </tr>\n",
       "  </tbody>\n",
       "</table>\n",
       "</div>"
      ],
      "text/plain": [
       "   Position       Track Name    Artist  Streams        date region  \\\n",
       "0        65  Bum Bum Tam Tam  MC Fioti   111915  11/24/2017     br   \n",
       "\n",
       "                       id                                   uri happiness  \\\n",
       "0  7KBfjlQ85Fqs2MCCvXSW0c  spotify:track:7KBfjlQ85Fqs2MCCvXSW0c             \n",
       "\n",
       "  energy danceability loudness speechiness instrumentalness  \n",
       "0                                                            "
      ]
     },
     "execution_count": 3,
     "metadata": {},
     "output_type": "execute_result"
    }
   ],
   "source": [
    "file='../Outputs/Spotify2017Top2.csv'\n",
    "TopSpotify=pd.read_csv(file,encoding=\"ISO-8859-1\")\n",
    "TopSpotify.columns\n",
    "TopSpotify[\"uri\"]='spotify:track:'+TopSpotify[\"id\"]\n",
    "#New columns\n",
    "TopSpotify[\"happiness\"]=''\n",
    "TopSpotify[\"energy\"]=''\n",
    "TopSpotify[\"danceability\"]=''\n",
    "TopSpotify[\"loudness\"]=''\n",
    "TopSpotify[\"speechiness\"]=''\n",
    "TopSpotify[\"instrumentalness\"]=''\n",
    "\n",
    "TopSpotify=TopSpotify.head(200)\n",
    "TopSpotify.head(1)"
   ]
  },
  {
   "cell_type": "code",
   "execution_count": 4,
   "metadata": {},
   "outputs": [
    {
     "name": "stdout",
     "output_type": "stream",
     "text": [
      "retrying ...1secs\n"
     ]
    }
   ],
   "source": [
    "\n",
    "import spotipy\n",
    "#from spotipy.oauth2 import SpotifyClientCredentials\n",
    "client_id='a7c49e4b412941709f9ab03c700d61b8'\n",
    "client_secret='3e46f9fc9338407cb1d0b6a915fb6d4d'\n",
    "\n",
    "from spotipy.oauth2 import SpotifyClientCredentials\n",
    "\n",
    "client_credentials_manager = SpotifyClientCredentials(client_id,client_secret)\n",
    "sp = spotipy.Spotify(client_credentials_manager=client_credentials_manager)\n",
    "\n",
    "\n",
    "\n",
    "# use iterrows to iterate through pandas dataframe\n",
    "for index, row in TopSpotify.iterrows():\n",
    "\n",
    "    # iterate thru each row of the file\n",
    "    tid = row['uri']\n",
    "    try:\n",
    "        fearure = sp.audio_features(tid)\n",
    "        happiness = fearure[0][\"valence\"]\n",
    "        energy = fearure[0][\"energy\"]\n",
    "        danceability=fearure[0][\"danceability\"]\n",
    "        loudness=fearure[0][\"loudness\"]\n",
    "        speechiness=fearure[0][\"speechiness\"]\n",
    "        instrumentalness=fearure[0][\"instrumentalness\"]\n",
    "\n",
    "    #write back to data frame\n",
    "               \n",
    "        TopSpotify.loc[index, 'happiness'] = happiness\n",
    "        TopSpotify.loc[index, 'energy'] = energy\n",
    "        TopSpotify.loc[index, 'danceability'] = danceability\n",
    "        TopSpotify.loc[index, 'loudness'] = loudness\n",
    "        TopSpotify.loc[index, 'speechiness'] = speechiness\n",
    "        TopSpotify.loc[index, 'instrumentalness'] = instrumentalness\n",
    "        \n",
    "        #print(tid)\n",
    "    #print(json.dumps(fearure1, indent=4))\n",
    "    except (KeyError, IndexError, NoneType):\n",
    "        print(tid)\n",
    "        print(\"Missing field/result... skipping.\")\n",
    "TopSpotify.to_csv(\"../Outputs/SpotifyTop2017WithFeatures200.csv\", index=False)"
   ]
  },
  {
   "cell_type": "code",
   "execution_count": 4,
   "metadata": {},
   "outputs": [],
   "source": [
    "TopSpotify.to_csv(\"../Outputs/SpotifyTop2017WithFeatures2.csv\", index=False)"
   ]
  }
 ],
 "metadata": {
  "kernelspec": {
   "display_name": "Python 3",
   "language": "python",
   "name": "python3"
  },
  "language_info": {
   "codemirror_mode": {
    "name": "ipython",
    "version": 3
   },
   "file_extension": ".py",
   "mimetype": "text/x-python",
   "name": "python",
   "nbconvert_exporter": "python",
   "pygments_lexer": "ipython3",
   "version": "3.6.7"
  }
 },
 "nbformat": 4,
 "nbformat_minor": 2
}
