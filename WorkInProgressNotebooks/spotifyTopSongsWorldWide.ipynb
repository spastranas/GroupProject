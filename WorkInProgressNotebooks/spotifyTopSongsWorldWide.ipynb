{
 "cells": [
  {
   "cell_type": "code",
   "execution_count": 1,
   "metadata": {},
   "outputs": [],
   "source": [
    "import pandas as pd\n"
   ]
  },
  {
   "cell_type": "code",
   "execution_count": 5,
   "metadata": {},
   "outputs": [
    {
     "data": {
      "text/plain": [
       "Index(['COUNTRY', 'A2 (ISO)', 'A3 (UN)', 'NUM (UN)', 'DIALING CODE',\n",
       "       'spotifyFlag'],\n",
       "      dtype='object')"
      ]
     },
     "execution_count": 5,
     "metadata": {},
     "output_type": "execute_result"
    }
   ],
   "source": [
    "#create a dataframe from a file using pandas\n",
    "file = '../Resources/CountryCodesLookup.csv'\n",
    "#upload country lookup\n",
    "Countries=pd.read_csv(file,encoding=\"ISO-8859-1\")\n",
    "#upload dates to look for top songs\n",
    "spDates= pd.read_csv('../Resources/DatesForSpotifyTopSongs.csv')\n",
    "Countries.columns\n"
   ]
  },
  {
   "cell_type": "code",
   "execution_count": 6,
   "metadata": {
    "scrolled": true
   },
   "outputs": [],
   "source": [
    "#filter by countries in spotify\n",
    "spCountries = Countries.loc[Countries[\"spotifyFlag\"] == 1,[\"COUNTRY\",\"A2 (ISO)\"]]\n",
    "\n",
    "# make a list of countries by dates to get their top 200 songs\n",
    "#cross join\n",
    "spCountries[\"Key\"]=1\n",
    "spDates[\"Key\"]=1\n",
    "spCountries[\"Processed\"]=0\n",
    "CountryDate = pd.merge(spCountries, spDates, on=\"Key\").reset_index(drop=True)\n",
    "#.head(1)\n",
    "#CountryDate\n"
   ]
  },
  {
   "cell_type": "code",
   "execution_count": 7,
   "metadata": {},
   "outputs": [
    {
     "data": {
      "text/html": [
       "<div>\n",
       "<style scoped>\n",
       "    .dataframe tbody tr th:only-of-type {\n",
       "        vertical-align: middle;\n",
       "    }\n",
       "\n",
       "    .dataframe tbody tr th {\n",
       "        vertical-align: top;\n",
       "    }\n",
       "\n",
       "    .dataframe thead th {\n",
       "        text-align: right;\n",
       "    }\n",
       "</style>\n",
       "<table border=\"1\" class=\"dataframe\">\n",
       "  <thead>\n",
       "    <tr style=\"text-align: right;\">\n",
       "      <th></th>\n",
       "      <th>COUNTRY</th>\n",
       "      <th>A2 (ISO)</th>\n",
       "      <th>Key</th>\n",
       "      <th>Processed</th>\n",
       "      <th>startDate</th>\n",
       "      <th>EndDate</th>\n",
       "    </tr>\n",
       "  </thead>\n",
       "  <tbody>\n",
       "    <tr>\n",
       "      <th>0</th>\n",
       "      <td>Argentina</td>\n",
       "      <td>AR</td>\n",
       "      <td>1</td>\n",
       "      <td>0</td>\n",
       "      <td>2018-01-15</td>\n",
       "      <td>2018-01-15</td>\n",
       "    </tr>\n",
       "    <tr>\n",
       "      <th>1</th>\n",
       "      <td>Argentina</td>\n",
       "      <td>AR</td>\n",
       "      <td>1</td>\n",
       "      <td>0</td>\n",
       "      <td>2018-02-15</td>\n",
       "      <td>2018-02-15</td>\n",
       "    </tr>\n",
       "    <tr>\n",
       "      <th>2</th>\n",
       "      <td>Argentina</td>\n",
       "      <td>AR</td>\n",
       "      <td>1</td>\n",
       "      <td>0</td>\n",
       "      <td>2018-03-15</td>\n",
       "      <td>2018-03-15</td>\n",
       "    </tr>\n",
       "    <tr>\n",
       "      <th>3</th>\n",
       "      <td>Argentina</td>\n",
       "      <td>AR</td>\n",
       "      <td>1</td>\n",
       "      <td>0</td>\n",
       "      <td>2018-04-15</td>\n",
       "      <td>2018-04-15</td>\n",
       "    </tr>\n",
       "    <tr>\n",
       "      <th>4</th>\n",
       "      <td>Argentina</td>\n",
       "      <td>AR</td>\n",
       "      <td>1</td>\n",
       "      <td>0</td>\n",
       "      <td>2018-05-15</td>\n",
       "      <td>2018-05-15</td>\n",
       "    </tr>\n",
       "  </tbody>\n",
       "</table>\n",
       "</div>"
      ],
      "text/plain": [
       "     COUNTRY A2 (ISO)  Key  Processed   startDate     EndDate\n",
       "0  Argentina       AR    1          0  2018-01-15  2018-01-15\n",
       "1  Argentina       AR    1          0  2018-02-15  2018-02-15\n",
       "2  Argentina       AR    1          0  2018-03-15  2018-03-15\n",
       "3  Argentina       AR    1          0  2018-04-15  2018-04-15\n",
       "4  Argentina       AR    1          0  2018-05-15  2018-05-15"
      ]
     },
     "execution_count": 7,
     "metadata": {},
     "output_type": "execute_result"
    }
   ],
   "source": [
    "CountryDate.head()"
   ]
  },
  {
   "cell_type": "code",
   "execution_count": 244,
   "metadata": {},
   "outputs": [],
   "source": [
    "#extract top200 solgs for the countries and dates determined in CountryDate dataframe\n",
    "#looping is not supported, I have to do line by line, so make a variable to \n",
    "#this step has to be restarted as many times as it fails until we finish processing all rows, dicarding rows errors \n",
    "#in case of failure, excude last processed row\n",
    "\n",
    "spCountriesToProcess = CountryDate.loc[(CountryDate[\"Processed\"] == 0) & (CountryDate[\"COUNTRY\"]!='RO' ),:]\n",
    "\n",
    "\n",
    "from fycharts import SpotifyCharts \n",
    "api = SpotifyCharts.SpotifyCharts()\n",
    "\n",
    "\n",
    "# use iterrows to iterate through pandas dataframe\n",
    "for index, row in spCountriesToProcess.iterrows():\n",
    "\n",
    "    # iterate thru each row of the file\n",
    "    countryCode = str.lower(row['A2 (ISO)'])\n",
    "    startDate=row[\"startDate\"]\n",
    "    EndDate=row[\"EndDate\"]\n",
    "    \n",
    "    #get data\n",
    "    print(startDate)  \n",
    "    print (countryCode)\n",
    "    CountryDate.loc[index, 'Processed'] = 1\n",
    "    CountryDate.loc[index+1, 'Processed'] = 1\n",
    "       \n",
    "    api.viral50Daily(output_file = '../Output/SpotifyTopSongsByCountry.csv', start=startDate, end=EndDate, region=countryCode)\n",
    "    \n",
    "\n",
    "\n"
   ]
  }
 ],
 "metadata": {
  "kernelspec": {
   "display_name": "Python 3",
   "language": "python",
   "name": "python3"
  },
  "language_info": {
   "codemirror_mode": {
    "name": "ipython",
    "version": 3
   },
   "file_extension": ".py",
   "mimetype": "text/x-python",
   "name": "python",
   "nbconvert_exporter": "python",
   "pygments_lexer": "ipython3",
   "version": "3.6.7"
  }
 },
 "nbformat": 4,
 "nbformat_minor": 2
}
