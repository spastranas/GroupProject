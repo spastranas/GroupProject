{
 "cells": [
  {
   "cell_type": "code",
   "execution_count": 53,
   "metadata": {},
   "outputs": [],
   "source": [
    "import pandas as pd\n"
   ]
  },
  {
   "cell_type": "code",
   "execution_count": 54,
   "metadata": {},
   "outputs": [
    {
     "data": {
      "text/plain": [
       "Index(['COUNTRY', 'A2 (ISO)', 'A3 (UN)', 'NUM (UN)', 'DIALING CODE',\n",
       "       'spotifyFlag'],\n",
       "      dtype='object')"
      ]
     },
     "execution_count": 54,
     "metadata": {},
     "output_type": "execute_result"
    }
   ],
   "source": [
    "#create a dataframe from a file using pandas\n",
    "file = '../Resources/CountryCodesLookup.csv'\n",
    "#upload country lookup\n",
    "Countries=pd.read_csv(file,encoding=\"ISO-8859-1\")\n",
    "#upload dates to look for top songs\n",
    "spDates= pd.read_csv('../Resources/DatesForSpotifyTopSongs.csv')\n",
    "Countries.columns\n"
   ]
  },
  {
   "cell_type": "code",
   "execution_count": 55,
   "metadata": {
    "scrolled": true
   },
   "outputs": [],
   "source": [
    "#filter by countries in spotify\n",
    "spCountries = Countries.loc[Countries[\"spotifyFlag\"] == 1,[\"COUNTRY\",\"A2 (ISO)\"]]\n",
    "\n",
    "# make a list of countries by dates to get their top 200 songs\n",
    "#cross join\n",
    "spCountries[\"Key\"]=1\n",
    "spDates[\"Key\"]=1\n",
    "spCountries[\"Processed\"]=0\n",
    "CountryDate = pd.merge(spCountries, spDates, on=\"Key\").reset_index(drop=True)\n",
    "#.head(1)\n",
    "#CountryDate\n"
   ]
  },
  {
   "cell_type": "code",
   "execution_count": 56,
   "metadata": {},
   "outputs": [
    {
     "data": {
      "text/html": [
       "<div>\n",
       "<style scoped>\n",
       "    .dataframe tbody tr th:only-of-type {\n",
       "        vertical-align: middle;\n",
       "    }\n",
       "\n",
       "    .dataframe tbody tr th {\n",
       "        vertical-align: top;\n",
       "    }\n",
       "\n",
       "    .dataframe thead th {\n",
       "        text-align: right;\n",
       "    }\n",
       "</style>\n",
       "<table border=\"1\" class=\"dataframe\">\n",
       "  <thead>\n",
       "    <tr style=\"text-align: right;\">\n",
       "      <th></th>\n",
       "      <th>COUNTRY</th>\n",
       "      <th>A2 (ISO)</th>\n",
       "      <th>Key</th>\n",
       "      <th>Processed</th>\n",
       "      <th>startDate</th>\n",
       "      <th>EndDate</th>\n",
       "    </tr>\n",
       "  </thead>\n",
       "  <tbody>\n",
       "    <tr>\n",
       "      <th>0</th>\n",
       "      <td>Argentina</td>\n",
       "      <td>AR</td>\n",
       "      <td>1</td>\n",
       "      <td>0</td>\n",
       "      <td>2017-01-06</td>\n",
       "      <td>2017-01-06</td>\n",
       "    </tr>\n",
       "    <tr>\n",
       "      <th>1</th>\n",
       "      <td>Argentina</td>\n",
       "      <td>AR</td>\n",
       "      <td>1</td>\n",
       "      <td>0</td>\n",
       "      <td>2017-02-03</td>\n",
       "      <td>2017-02-03</td>\n",
       "    </tr>\n",
       "    <tr>\n",
       "      <th>2</th>\n",
       "      <td>Argentina</td>\n",
       "      <td>AR</td>\n",
       "      <td>1</td>\n",
       "      <td>0</td>\n",
       "      <td>2017-03-03</td>\n",
       "      <td>2017-03-03</td>\n",
       "    </tr>\n",
       "    <tr>\n",
       "      <th>3</th>\n",
       "      <td>Argentina</td>\n",
       "      <td>AR</td>\n",
       "      <td>1</td>\n",
       "      <td>0</td>\n",
       "      <td>2017-04-14</td>\n",
       "      <td>2017-04-14</td>\n",
       "    </tr>\n",
       "    <tr>\n",
       "      <th>4</th>\n",
       "      <td>Argentina</td>\n",
       "      <td>AR</td>\n",
       "      <td>1</td>\n",
       "      <td>0</td>\n",
       "      <td>2017-05-12</td>\n",
       "      <td>2017-05-12</td>\n",
       "    </tr>\n",
       "  </tbody>\n",
       "</table>\n",
       "</div>"
      ],
      "text/plain": [
       "     COUNTRY A2 (ISO)  Key  Processed   startDate     EndDate\n",
       "0  Argentina       AR    1          0  2017-01-06  2017-01-06\n",
       "1  Argentina       AR    1          0  2017-02-03  2017-02-03\n",
       "2  Argentina       AR    1          0  2017-03-03  2017-03-03\n",
       "3  Argentina       AR    1          0  2017-04-14  2017-04-14\n",
       "4  Argentina       AR    1          0  2017-05-12  2017-05-12"
      ]
     },
     "execution_count": 56,
     "metadata": {},
     "output_type": "execute_result"
    }
   ],
   "source": [
    "CountryDate.head()"
   ]
  },
  {
   "cell_type": "code",
   "execution_count": 568,
   "metadata": {},
   "outputs": [],
   "source": [
    "#extract top songs by country in 2017. \n",
    "# rows get marked as processed. if the script failes, at re start it will exclude processed/failed rows.\n",
    "# this needs to be restarted as many times as it fails.\n",
    "\n",
    "spCountriesToProcess = CountryDate.loc[(CountryDate[\"Processed\"] == 0) & (CountryDate[\"COUNTRY\"]!='AD' ),:]\n",
    "\n",
    "\n",
    "from fycharts import SpotifyCharts \n",
    "api = SpotifyCharts.SpotifyCharts()\n",
    "\n",
    "\n",
    "# use iterrows to iterate through pandas dataframe\n",
    "for index, row in spCountriesToProcess.iterrows():\n",
    "\n",
    "    # iterate thru each row of the file\n",
    "    countryCode = str.lower(row['A2 (ISO)'])\n",
    "    startDate=row[\"startDate\"]\n",
    "    EndDate=row[\"EndDate\"]\n",
    "    \n",
    "    #get data\n",
    "    print(startDate)  \n",
    "    print (countryCode)\n",
    "    CountryDate.loc[index, 'Processed'] = 1\n",
    "   \n",
    "       \n",
    "    api.top200Daily(output_file = '../Outputs/Spotify2017Top.csv', start=startDate, end=EndDate, region=countryCode)\n",
    "#viral50Daily    \n",
    "#top200Weekly\n",
    "\n"
   ]
  }
 ],
 "metadata": {
  "kernelspec": {
   "display_name": "Python 3",
   "language": "python",
   "name": "python3"
  },
  "language_info": {
   "codemirror_mode": {
    "name": "ipython",
    "version": 3
   },
   "file_extension": ".py",
   "mimetype": "text/x-python",
   "name": "python",
   "nbconvert_exporter": "python",
   "pygments_lexer": "ipython3",
   "version": "3.6.7"
  }
 },
 "nbformat": 4,
 "nbformat_minor": 2
}
