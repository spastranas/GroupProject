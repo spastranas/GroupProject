{
 "cells": [
  {
   "cell_type": "code",
   "execution_count": 1,
   "metadata": {},
   "outputs": [],
   "source": [
    "#Dependencies\n",
    "import pandas as pd\n",
    "import random\n",
    "import numpy as np\n",
    "import matplotlib.pyplot as plt\n",
    "import requests\n",
    "import json\n",
    "import time"
   ]
  },
  {
   "cell_type": "code",
   "execution_count": null,
   "metadata": {},
   "outputs": [],
   "source": []
  },
  {
   "cell_type": "markdown",
   "metadata": {},
   "source": [
    "Rafael"
   ]
  },
  {
   "cell_type": "code",
   "execution_count": null,
   "metadata": {},
   "outputs": [],
   "source": []
  },
  {
   "cell_type": "code",
   "execution_count": null,
   "metadata": {},
   "outputs": [],
   "source": []
  },
  {
   "cell_type": "code",
   "execution_count": null,
   "metadata": {},
   "outputs": [],
   "source": []
  },
  {
   "cell_type": "markdown",
   "metadata": {},
   "source": [
    "Arghavan"
   ]
  },
  {
   "cell_type": "code",
   "execution_count": 2,
   "metadata": {},
   "outputs": [
    {
     "data": {
      "text/html": [
       "<div>\n",
       "<style scoped>\n",
       "    .dataframe tbody tr th:only-of-type {\n",
       "        vertical-align: middle;\n",
       "    }\n",
       "\n",
       "    .dataframe tbody tr th {\n",
       "        vertical-align: top;\n",
       "    }\n",
       "\n",
       "    .dataframe thead th {\n",
       "        text-align: right;\n",
       "    }\n",
       "</style>\n",
       "<table border=\"1\" class=\"dataframe\">\n",
       "  <thead>\n",
       "    <tr style=\"text-align: right;\">\n",
       "      <th></th>\n",
       "      <th>country</th>\n",
       "      <th>year</th>\n",
       "      <th>Life Ladder</th>\n",
       "      <th>Log GDP per capita</th>\n",
       "      <th>Social support</th>\n",
       "      <th>Healthy life expectancy at birth</th>\n",
       "      <th>Freedom to make life choices</th>\n",
       "      <th>Generosity</th>\n",
       "      <th>Perceptions of corruption</th>\n",
       "      <th>Positive affect</th>\n",
       "      <th>Negative affect</th>\n",
       "      <th>Confidence in national government</th>\n",
       "    </tr>\n",
       "  </thead>\n",
       "  <tbody>\n",
       "    <tr>\n",
       "      <th>8</th>\n",
       "      <td>Afghanistan</td>\n",
       "      <td>2016</td>\n",
       "      <td>4.220169</td>\n",
       "      <td>7.461401</td>\n",
       "      <td>0.559072</td>\n",
       "      <td>52.016529</td>\n",
       "      <td>0.522566</td>\n",
       "      <td>0.057072</td>\n",
       "      <td>0.793246</td>\n",
       "      <td>0.564953</td>\n",
       "      <td>0.348332</td>\n",
       "      <td>0.324990</td>\n",
       "    </tr>\n",
       "    <tr>\n",
       "      <th>18</th>\n",
       "      <td>Albania</td>\n",
       "      <td>2016</td>\n",
       "      <td>4.511101</td>\n",
       "      <td>9.337774</td>\n",
       "      <td>0.638411</td>\n",
       "      <td>68.871811</td>\n",
       "      <td>0.729819</td>\n",
       "      <td>-0.023276</td>\n",
       "      <td>0.901071</td>\n",
       "      <td>0.675244</td>\n",
       "      <td>0.321706</td>\n",
       "      <td>0.400910</td>\n",
       "    </tr>\n",
       "    <tr>\n",
       "      <th>40</th>\n",
       "      <td>Argentina</td>\n",
       "      <td>2016</td>\n",
       "      <td>6.427221</td>\n",
       "      <td>9.824955</td>\n",
       "      <td>0.882819</td>\n",
       "      <td>67.398514</td>\n",
       "      <td>0.847702</td>\n",
       "      <td>-0.191952</td>\n",
       "      <td>0.850924</td>\n",
       "      <td>0.841907</td>\n",
       "      <td>0.311646</td>\n",
       "      <td>0.419562</td>\n",
       "    </tr>\n",
       "    <tr>\n",
       "      <th>52</th>\n",
       "      <td>Armenia</td>\n",
       "      <td>2016</td>\n",
       "      <td>4.325472</td>\n",
       "      <td>9.010698</td>\n",
       "      <td>0.709218</td>\n",
       "      <td>64.962730</td>\n",
       "      <td>0.610987</td>\n",
       "      <td>-0.158839</td>\n",
       "      <td>0.921421</td>\n",
       "      <td>0.593600</td>\n",
       "      <td>0.437228</td>\n",
       "      <td>0.184713</td>\n",
       "    </tr>\n",
       "    <tr>\n",
       "      <th>63</th>\n",
       "      <td>Australia</td>\n",
       "      <td>2016</td>\n",
       "      <td>7.250080</td>\n",
       "      <td>10.701311</td>\n",
       "      <td>0.942334</td>\n",
       "      <td>72.650337</td>\n",
       "      <td>0.922316</td>\n",
       "      <td>0.223268</td>\n",
       "      <td>0.398545</td>\n",
       "      <td>0.790868</td>\n",
       "      <td>0.236086</td>\n",
       "      <td>0.452732</td>\n",
       "    </tr>\n",
       "  </tbody>\n",
       "</table>\n",
       "</div>"
      ],
      "text/plain": [
       "        country  year  Life Ladder  Log GDP per capita  Social support  \\\n",
       "8   Afghanistan  2016     4.220169            7.461401        0.559072   \n",
       "18      Albania  2016     4.511101            9.337774        0.638411   \n",
       "40    Argentina  2016     6.427221            9.824955        0.882819   \n",
       "52      Armenia  2016     4.325472            9.010698        0.709218   \n",
       "63    Australia  2016     7.250080           10.701311        0.942334   \n",
       "\n",
       "    Healthy life expectancy at birth  Freedom to make life choices  \\\n",
       "8                          52.016529                      0.522566   \n",
       "18                         68.871811                      0.729819   \n",
       "40                         67.398514                      0.847702   \n",
       "52                         64.962730                      0.610987   \n",
       "63                         72.650337                      0.922316   \n",
       "\n",
       "    Generosity  Perceptions of corruption  Positive affect  Negative affect  \\\n",
       "8     0.057072                   0.793246         0.564953         0.348332   \n",
       "18   -0.023276                   0.901071         0.675244         0.321706   \n",
       "40   -0.191952                   0.850924         0.841907         0.311646   \n",
       "52   -0.158839                   0.921421         0.593600         0.437228   \n",
       "63    0.223268                   0.398545         0.790868         0.236086   \n",
       "\n",
       "    Confidence in national government  \n",
       "8                            0.324990  \n",
       "18                           0.400910  \n",
       "40                           0.419562  \n",
       "52                           0.184713  \n",
       "63                           0.452732  "
      ]
     },
     "execution_count": 2,
     "metadata": {},
     "output_type": "execute_result"
    }
   ],
   "source": [
    "#Cleaning Happiness DF\n",
    "Happiness =  pd.read_csv('Resources/WorldHappinessReport.csv')\n",
    "Happiness_New = Happiness.drop(columns=['Delivery Quality', 'Democratic Quality', \n",
    "                                        'Standard deviation of ladder by country-year',\n",
    "                                        'Standard deviation/Mean of ladder by country-year',\n",
    "                                        'GINI index (World Bank estimate)', 'GINI index (World Bank estimate), average 2000-15',\n",
    "                                        'gini of household income reported in Gallup, by wp5-year'])\n",
    "\n",
    "Happiness_Updated = Happiness_New.loc[Happiness_New[\"year\"]==2016,:]\n",
    "Happiness_Olympics = Happiness_Updated.dropna()\n",
    "Happiness_Olympics.head()"
   ]
  },
  {
   "cell_type": "code",
   "execution_count": 3,
   "metadata": {},
   "outputs": [
    {
     "data": {
      "text/html": [
       "<div>\n",
       "<style scoped>\n",
       "    .dataframe tbody tr th:only-of-type {\n",
       "        vertical-align: middle;\n",
       "    }\n",
       "\n",
       "    .dataframe tbody tr th {\n",
       "        vertical-align: top;\n",
       "    }\n",
       "\n",
       "    .dataframe thead th {\n",
       "        text-align: right;\n",
       "    }\n",
       "</style>\n",
       "<table border=\"1\" class=\"dataframe\">\n",
       "  <thead>\n",
       "    <tr style=\"text-align: right;\">\n",
       "      <th></th>\n",
       "      <th>Number of Athletes</th>\n",
       "    </tr>\n",
       "    <tr>\n",
       "      <th>country</th>\n",
       "      <th></th>\n",
       "    </tr>\n",
       "  </thead>\n",
       "  <tbody>\n",
       "    <tr>\n",
       "      <th>Afghanistan</th>\n",
       "      <td>3</td>\n",
       "    </tr>\n",
       "    <tr>\n",
       "      <th>Albania</th>\n",
       "      <td>6</td>\n",
       "    </tr>\n",
       "    <tr>\n",
       "      <th>Algeria</th>\n",
       "      <td>74</td>\n",
       "    </tr>\n",
       "    <tr>\n",
       "      <th>American Samoa</th>\n",
       "      <td>4</td>\n",
       "    </tr>\n",
       "    <tr>\n",
       "      <th>Andorra</th>\n",
       "      <td>4</td>\n",
       "    </tr>\n",
       "  </tbody>\n",
       "</table>\n",
       "</div>"
      ],
      "text/plain": [
       "                Number of Athletes\n",
       "country                           \n",
       "Afghanistan                      3\n",
       "Albania                          6\n",
       "Algeria                         74\n",
       "American Samoa                   4\n",
       "Andorra                          4"
      ]
     },
     "execution_count": 3,
     "metadata": {},
     "output_type": "execute_result"
    }
   ],
   "source": [
    "#Cleaning Olympics DF\n",
    "CSV_athletes = pd.read_csv(\"Resources/120-years-of-olympic-history-athletes-and-results/athlete_events.csv\")\n",
    "CSV_countries =  pd.read_csv(\"Resources/120-years-of-olympic-history-athletes-and-results/noc_regions.csv\")\n",
    "CSV_athletes = CSV_athletes.drop(columns=['Season', 'City', 'Height', 'Weight'])\n",
    "CSV_athletes = CSV_athletes.loc[CSV_athletes[\"Year\"]==2016,:]\n",
    "CSV_athletes_updated = CSV_athletes.fillna(\"none\")\n",
    "merged_athletes = pd.merge(CSV_athletes_updated, CSV_countries, on = \"NOC\", how = \"left\")\n",
    "merged_athletes = merged_athletes.drop(columns = ['NOC', 'notes'])\n",
    "merged_athletes1 = merged_athletes.rename(columns= {\"region\" : \"country\"})\n",
    "\n",
    "merged_athletes2 = merged_athletes1.groupby(merged_athletes1[\"country\"])\n",
    "Final_athletes = merged_athletes2[\"Name\"].count()\n",
    "Final_df = pd.DataFrame(Final_athletes)\n",
    "Final_df = Final_df.rename(columns= {\"Name\" : \"Number of Athletes\"})\n",
    "Final_df.head()"
   ]
  },
  {
   "cell_type": "code",
   "execution_count": 4,
   "metadata": {},
   "outputs": [],
   "source": [
    "#Creating Final DF\n",
    "Athlete_Happiness = pd.merge(Final_df, Happiness_Olympics, on = \"country\")\n",
    "Athlete_Happiness.to_csv(\"Outputs/Athlete_Happiness.csv\")"
   ]
  },
  {
   "cell_type": "markdown",
   "metadata": {},
   "source": [
    "Shayan"
   ]
  },
  {
   "cell_type": "code",
   "execution_count": 21,
   "metadata": {
    "scrolled": true
   },
   "outputs": [],
   "source": [
    "happiness_df = pd.read_csv(\"Resources/WorldHappinessReport.csv\")\n",
    "tourism_df = pd.read_csv(\"Resources/Tourism.csv\", skiprows=3)\n",
    "happiness17_df = happiness_df.loc[(happiness_df[\"year\"] == 2017)]\n",
    "happiness_score = happiness17_df[[\"country\", \"Life Ladder\"]]\n",
    "happiness_score.columns = [\"Country Name\", \"Happines Score\"]\n",
    "tourism_number = tourism_df[[\"Country Name\", \"2017\"]]\n",
    "tourism_number = tourism_number.fillna(0)\n",
    "merge_table = pd.merge(happiness_score, tourism_number, on = \"Country Name\")\n",
    "merge_table.to_csv(\"Outputs/Tourism_Happiness.csv\")\n"
   ]
  },
  {
   "cell_type": "code",
   "execution_count": null,
   "metadata": {},
   "outputs": [],
   "source": []
  },
  {
   "cell_type": "code",
   "execution_count": null,
   "metadata": {},
   "outputs": [],
   "source": []
  },
  {
   "cell_type": "markdown",
   "metadata": {},
   "source": [
    "Mariana"
   ]
  },
  {
   "cell_type": "code",
   "execution_count": 3,
   "metadata": {},
   "outputs": [
    {
     "data": {
      "text/plain": [
       "Index(['index', 'Country', 'Cities', 'Country Code'], dtype='object')"
      ]
     },
     "execution_count": 3,
     "metadata": {},
     "output_type": "execute_result"
    }
   ],
   "source": [
    "#create a dataframe from file \n",
    "file = 'Resources/Capitals.csv'\n",
    "#read the CSV in pandas\n",
    "weather = pd.read_csv(file, encoding=\"ISO-8859-1\")\n",
    "weather.reset_index(inplace=True)\n",
    "weather.columns"
   ]
  },
  {
   "cell_type": "code",
   "execution_count": 6,
   "metadata": {},
   "outputs": [
    {
     "name": "stdout",
     "output_type": "stream",
     "text": [
      "Missing field/result... skipping.\n",
      "Missing field/result... skipping.\n",
      "Missing field/result... skipping.\n",
      "Missing field/result... skipping.\n",
      "Missing field/result... skipping.\n",
      "Missing field/result... skipping.\n",
      "Missing field/result... skipping.\n",
      "Missing field/result... skipping.\n",
      "Missing field/result... skipping.\n",
      "Missing field/result... skipping.\n",
      "Missing field/result... skipping.\n",
      "Missing field/result... skipping.\n",
      "Missing field/result... skipping.\n",
      "Missing field/result... skipping.\n",
      "Missing field/result... skipping.\n",
      "Missing field/result... skipping.\n",
      "Missing field/result... skipping.\n"
     ]
    }
   ],
   "source": [
    "# set up additional columns to hold information\n",
    "weather['Temperature'] = \"\"\n",
    "base_url = \"http://api.openweathermap.org/data/2.5/weather?\"\n",
    "#print(response['main']['temp'])\n",
    "# use iterrows to iterate through pandas dataframe\n",
    "for index, row in weather.iterrows():\n",
    "\n",
    "    # iterate thru each row of the file\n",
    "    city = row['Cities']\n",
    "    url = base_url + \"appid=\" + \"082ff2cde1d396b2b896b2335daad199\" + \"&q=\" + city +\"&units=imperial\"\n",
    "\n",
    "# assemble url and make API request\n",
    "    response = requests.get(url).json()\n",
    "  \n",
    "    #update the dataframe \n",
    "    try:\n",
    "        weather.loc[index, 'Temperature'] = response['main']['temp']\n",
    "        \n",
    "    except (KeyError, IndexError):\n",
    "        print(\"Missing field/result... skipping.\")\n"
   ]
  },
  {
   "cell_type": "code",
   "execution_count": 8,
   "metadata": {},
   "outputs": [
    {
     "data": {
      "text/html": [
       "<div>\n",
       "<style scoped>\n",
       "    .dataframe tbody tr th:only-of-type {\n",
       "        vertical-align: middle;\n",
       "    }\n",
       "\n",
       "    .dataframe tbody tr th {\n",
       "        vertical-align: top;\n",
       "    }\n",
       "\n",
       "    .dataframe thead th {\n",
       "        text-align: right;\n",
       "    }\n",
       "</style>\n",
       "<table border=\"1\" class=\"dataframe\">\n",
       "  <thead>\n",
       "    <tr style=\"text-align: right;\">\n",
       "      <th></th>\n",
       "      <th>index</th>\n",
       "      <th>Country</th>\n",
       "      <th>Cities</th>\n",
       "      <th>Country Code</th>\n",
       "      <th>Temperature</th>\n",
       "    </tr>\n",
       "  </thead>\n",
       "  <tbody>\n",
       "    <tr>\n",
       "      <th>0</th>\n",
       "      <td>0</td>\n",
       "      <td>Afghanistan</td>\n",
       "      <td>Kabul</td>\n",
       "      <td>AF</td>\n",
       "      <td>59</td>\n",
       "    </tr>\n",
       "    <tr>\n",
       "      <th>1</th>\n",
       "      <td>1</td>\n",
       "      <td>Albania</td>\n",
       "      <td>Tirana (Tirane)</td>\n",
       "      <td>AL</td>\n",
       "      <td></td>\n",
       "    </tr>\n",
       "    <tr>\n",
       "      <th>2</th>\n",
       "      <td>2</td>\n",
       "      <td>Algeria</td>\n",
       "      <td>Algiers</td>\n",
       "      <td>DZ</td>\n",
       "      <td>69.87</td>\n",
       "    </tr>\n",
       "    <tr>\n",
       "      <th>3</th>\n",
       "      <td>3</td>\n",
       "      <td>Andorra</td>\n",
       "      <td>Andorra la Vella</td>\n",
       "      <td>AD</td>\n",
       "      <td>44.47</td>\n",
       "    </tr>\n",
       "    <tr>\n",
       "      <th>4</th>\n",
       "      <td>4</td>\n",
       "      <td>Angola</td>\n",
       "      <td>Luanda</td>\n",
       "      <td>AO</td>\n",
       "      <td>78.8</td>\n",
       "    </tr>\n",
       "  </tbody>\n",
       "</table>\n",
       "</div>"
      ],
      "text/plain": [
       "   index      Country            Cities Country Code Temperature\n",
       "0      0  Afghanistan             Kabul           AF          59\n",
       "1      1      Albania   Tirana (Tirane)           AL            \n",
       "2      2      Algeria           Algiers           DZ       69.87\n",
       "3      3      Andorra  Andorra la Vella           AD       44.47\n",
       "4      4       Angola            Luanda           AO        78.8"
      ]
     },
     "execution_count": 8,
     "metadata": {},
     "output_type": "execute_result"
    }
   ],
   "source": [
    "weather.head()"
   ]
  },
  {
   "cell_type": "code",
   "execution_count": null,
   "metadata": {},
   "outputs": [],
   "source": []
  },
  {
   "cell_type": "markdown",
   "metadata": {},
   "source": [
    "Sandra"
   ]
  },
  {
   "cell_type": "code",
   "execution_count": null,
   "metadata": {},
   "outputs": [],
   "source": []
  },
  {
   "cell_type": "markdown",
   "metadata": {},
   "source": []
  }
 ],
 "metadata": {
  "kernelspec": {
   "display_name": "Python 3",
   "language": "python",
   "name": "python3"
  },
  "language_info": {
   "codemirror_mode": {
    "name": "ipython",
    "version": 3
   },
   "file_extension": ".py",
   "mimetype": "text/x-python",
   "name": "python",
   "nbconvert_exporter": "python",
   "pygments_lexer": "ipython3",
   "version": "3.7.0"
  }
 },
 "nbformat": 4,
 "nbformat_minor": 2
}
